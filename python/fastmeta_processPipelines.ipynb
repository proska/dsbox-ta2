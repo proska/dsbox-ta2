{
 "cells": [
  {
   "cell_type": "code",
   "execution_count": 111,
   "metadata": {},
   "outputs": [],
   "source": [
    "import pandas as pd\n",
    "import numpy as np\n",
    "from sklearn.preprocessing import OneHotEncoder as OHEncoder\n",
    "from sklearn.compose import ColumnTransformer\n",
    "\n",
    "import json\n",
    "import time\n",
    "\n",
    "from multiprocessing import Pool\n",
    "\n",
    "from typing import List as List_t, Dict as Dict_t"
   ]
  },
  {
   "cell_type": "code",
   "execution_count": 4,
   "metadata": {},
   "outputs": [],
   "source": [
    "pipelines_loc = \"/nfs1/dsbox-repo/runs/wade-run/pipelines.jl\""
   ]
  },
  {
   "cell_type": "markdown",
   "metadata": {},
   "source": [
    "## Read total number of pipelines"
   ]
  },
  {
   "cell_type": "code",
   "execution_count": 19,
   "metadata": {},
   "outputs": [],
   "source": [
    "%%capture output\n",
    "!wc -l  \"/nfs1/dsbox-repo/runs/wade-run/pipelines.jl\""
   ]
  },
  {
   "cell_type": "code",
   "execution_count": 21,
   "metadata": {},
   "outputs": [
    {
     "data": {
      "text/plain": [
       "217235"
      ]
     },
     "execution_count": 21,
     "metadata": {},
     "output_type": "execute_result"
    }
   ],
   "source": [
    "n_pipelines = int(output.stdout.split(' ')[0])\n",
    "n_pipelines"
   ]
  },
  {
   "cell_type": "markdown",
   "metadata": {},
   "source": [
    "## Get Pipelines Information and Store in DataFrame"
   ]
  },
  {
   "cell_type": "code",
   "execution_count": 31,
   "metadata": {},
   "outputs": [],
   "source": [
    "def process_pipe(pipe_str)-> Dict_t:\n",
    "    pjsn = json.loads(pipe_str)\n",
    "    info_list = {'dataset': pjsn['problem'], 'task': pjsn['problem_taskType']} \n",
    "    prims = dict([(step['primitive']['python_path'], step['hyperparams'] if 'hyperparams' in step else 1.0) for step in pjsn['steps']])\n",
    "    \n",
    "    model = [m['primitives'] for m in pjsn['template']['steps'] if m['name'] == 'model_step']\n",
    "    model = [m for p in model if isinstance(m, str) else m['primitive']]"
   ]
  },
  {
   "cell_type": "code",
   "execution_count": 120,
   "metadata": {},
   "outputs": [],
   "source": [
    "def clean_hyper(raw: Dict_t) -> Dict_t:\n",
    "    for hp in sort(raw.keys()):\n",
    "        \n",
    "def extract_pipeline_info(fileloc) -> pd.DataFrame:\n",
    "#     pipelines = iter()\n",
    "#     info_list = map(\n",
    "#         lambda pjsn: \n",
    "#             {'dataset': pjsn['problem'],  \n",
    "#              'task': pjsn['problem_taskType'], \n",
    "#              **dict([(\n",
    "#                  step['primitive']['python_path'], \n",
    "#                  step['hyperparams'] if 'hyperparams' in step else 1.0\n",
    "#              ) for step in pjsn['steps']])\n",
    "#             },\n",
    "#         iter_pipe(pipelines_loc)\n",
    "#     )\n",
    "    \n",
    "    model_primitives = map(\n",
    "        lambda pjsn:\n",
    "            pjsn['template']['steps']['model_step']\n",
    "    )\n",
    "#     for pjsn in iter_pipe(pipelines_loc):\n",
    "#         entry = {}\n",
    "#         entry['dataset'] = pjsn['problem']\n",
    "#         for step in pjsn['steps']:\n",
    "#             entry[step['primitive']['python_path']] = step['hyperparams'] if 'hyperparams' in step else 1\n",
    "#         info_list.append(entry)\n",
    "    return pd.DataFrame(list(info_list)).fillna(0)    "
   ]
  },
  {
   "cell_type": "code",
   "execution_count": 139,
   "metadata": {},
   "outputs": [
    {
     "name": "stdout",
     "output_type": "stream",
     "text": [
      "CPU times: user 53.6 s, sys: 2.23 s, total: 55.8 s\n",
      "Wall time: 42.9 s\n"
     ]
    }
   ],
   "source": [
    "%%time\n",
    "df_pipes = extract_pipeline_info(pipelines_loc)\n",
    "df_pipes = df_pipes[df_pipes['task'].isin(['classification', 'regression'])] # ignoring pipelines for tasks other than classification and regression\n",
    "df_pipes = df_pipes.loc[:,(df_pipes != 0).any()]                             # remove columns that all values are zero (primitives that are not used at all)   "
   ]
  },
  {
   "cell_type": "code",
   "execution_count": 132,
   "metadata": {},
   "outputs": [
    {
     "data": {
      "text/plain": [
       "(216483, 42)"
      ]
     },
     "execution_count": 132,
     "metadata": {},
     "output_type": "execute_result"
    }
   ],
   "source": [
    "df_pipes.shape"
   ]
  },
  {
   "cell_type": "code",
   "execution_count": 136,
   "metadata": {},
   "outputs": [
    {
     "data": {
      "text/html": [
       "<div>\n",
       "<style scoped>\n",
       "    .dataframe tbody tr th:only-of-type {\n",
       "        vertical-align: middle;\n",
       "    }\n",
       "\n",
       "    .dataframe tbody tr th {\n",
       "        vertical-align: top;\n",
       "    }\n",
       "\n",
       "    .dataframe thead th {\n",
       "        text-align: right;\n",
       "    }\n",
       "</style>\n",
       "<table border=\"1\" class=\"dataframe\">\n",
       "  <thead>\n",
       "    <tr style=\"text-align: right;\">\n",
       "      <th></th>\n",
       "      <th>d3m.primitives.data.CastToType</th>\n",
       "      <th>d3m.primitives.data.ExtractColumnsBySemanticTypes</th>\n",
       "      <th>d3m.primitives.datasets.DatasetToDataFrame</th>\n",
       "      <th>d3m.primitives.dsbox.CleaningFeaturizer</th>\n",
       "      <th>d3m.primitives.dsbox.CorexText</th>\n",
       "      <th>d3m.primitives.dsbox.DataFrameToTensor</th>\n",
       "      <th>d3m.primitives.dsbox.Denormalize</th>\n",
       "      <th>d3m.primitives.dsbox.DoNothing</th>\n",
       "      <th>d3m.primitives.dsbox.Encoder</th>\n",
       "      <th>d3m.primitives.dsbox.IQRScaler</th>\n",
       "      <th>...</th>\n",
       "      <th>d3m.primitives.sklearn_wrap.SKPCA</th>\n",
       "      <th>d3m.primitives.sklearn_wrap.SKRandomForestClassifier</th>\n",
       "      <th>d3m.primitives.sklearn_wrap.SKRandomForestRegressor</th>\n",
       "      <th>d3m.primitives.sklearn_wrap.SKRidge</th>\n",
       "      <th>d3m.primitives.sklearn_wrap.SKSGDClassifier</th>\n",
       "      <th>d3m.primitives.sklearn_wrap.SKSGDRegressor</th>\n",
       "      <th>d3m.primitives.sklearn_wrap.SKSelectFwe</th>\n",
       "      <th>d3m.primitives.sri.baseline.MeanBaseline</th>\n",
       "      <th>dataset</th>\n",
       "      <th>task</th>\n",
       "    </tr>\n",
       "  </thead>\n",
       "  <tbody>\n",
       "    <tr>\n",
       "      <th>0</th>\n",
       "      <td>{'type_to_cast': {'type': 'VALUE', 'data': 'fl...</td>\n",
       "      <td>{'semantic_types': {'type': 'VALUE', 'data': [...</td>\n",
       "      <td>1.0</td>\n",
       "      <td>1.0</td>\n",
       "      <td>1.0</td>\n",
       "      <td>0.0</td>\n",
       "      <td>1.0</td>\n",
       "      <td>0.0</td>\n",
       "      <td>1.0</td>\n",
       "      <td>0.0</td>\n",
       "      <td>...</td>\n",
       "      <td>{'n_components': {'type': 'VALUE', 'data': 15}}</td>\n",
       "      <td>{'bootstrap': {'type': 'VALUE', 'data': True},...</td>\n",
       "      <td>0</td>\n",
       "      <td>0.0</td>\n",
       "      <td>0</td>\n",
       "      <td>0</td>\n",
       "      <td>0</td>\n",
       "      <td>0.0</td>\n",
       "      <td>LL0_1479_hill_valley</td>\n",
       "      <td>classification</td>\n",
       "    </tr>\n",
       "    <tr>\n",
       "      <th>1</th>\n",
       "      <td>{'type_to_cast': {'type': 'VALUE', 'data': 'fl...</td>\n",
       "      <td>{'semantic_types': {'type': 'VALUE', 'data': [...</td>\n",
       "      <td>1.0</td>\n",
       "      <td>1.0</td>\n",
       "      <td>1.0</td>\n",
       "      <td>0.0</td>\n",
       "      <td>1.0</td>\n",
       "      <td>0.0</td>\n",
       "      <td>1.0</td>\n",
       "      <td>0.0</td>\n",
       "      <td>...</td>\n",
       "      <td>{'n_components': {'type': 'VALUE', 'data': 10}}</td>\n",
       "      <td>0</td>\n",
       "      <td>0</td>\n",
       "      <td>0.0</td>\n",
       "      <td>0</td>\n",
       "      <td>0</td>\n",
       "      <td>0</td>\n",
       "      <td>0.0</td>\n",
       "      <td>LL0_1479_hill_valley</td>\n",
       "      <td>classification</td>\n",
       "    </tr>\n",
       "    <tr>\n",
       "      <th>2</th>\n",
       "      <td>{'type_to_cast': {'type': 'VALUE', 'data': 'fl...</td>\n",
       "      <td>{'semantic_types': {'type': 'VALUE', 'data': [...</td>\n",
       "      <td>1.0</td>\n",
       "      <td>1.0</td>\n",
       "      <td>1.0</td>\n",
       "      <td>0.0</td>\n",
       "      <td>1.0</td>\n",
       "      <td>0.0</td>\n",
       "      <td>1.0</td>\n",
       "      <td>0.0</td>\n",
       "      <td>...</td>\n",
       "      <td>{'n_components': {'type': 'VALUE', 'data': 10}}</td>\n",
       "      <td>0</td>\n",
       "      <td>0</td>\n",
       "      <td>0.0</td>\n",
       "      <td>0</td>\n",
       "      <td>0</td>\n",
       "      <td>0</td>\n",
       "      <td>0.0</td>\n",
       "      <td>LL0_1479_hill_valley</td>\n",
       "      <td>classification</td>\n",
       "    </tr>\n",
       "    <tr>\n",
       "      <th>3</th>\n",
       "      <td>{'type_to_cast': {'type': 'VALUE', 'data': 'fl...</td>\n",
       "      <td>{'semantic_types': {'type': 'VALUE', 'data': [...</td>\n",
       "      <td>1.0</td>\n",
       "      <td>1.0</td>\n",
       "      <td>1.0</td>\n",
       "      <td>0.0</td>\n",
       "      <td>1.0</td>\n",
       "      <td>1.0</td>\n",
       "      <td>1.0</td>\n",
       "      <td>0.0</td>\n",
       "      <td>...</td>\n",
       "      <td>{'n_components': {'type': 'VALUE', 'data': 10}}</td>\n",
       "      <td>0</td>\n",
       "      <td>0</td>\n",
       "      <td>0.0</td>\n",
       "      <td>0</td>\n",
       "      <td>0</td>\n",
       "      <td>0</td>\n",
       "      <td>0.0</td>\n",
       "      <td>LL0_1479_hill_valley</td>\n",
       "      <td>classification</td>\n",
       "    </tr>\n",
       "    <tr>\n",
       "      <th>4</th>\n",
       "      <td>{'type_to_cast': {'type': 'VALUE', 'data': 'fl...</td>\n",
       "      <td>{'semantic_types': {'type': 'VALUE', 'data': [...</td>\n",
       "      <td>1.0</td>\n",
       "      <td>1.0</td>\n",
       "      <td>1.0</td>\n",
       "      <td>0.0</td>\n",
       "      <td>1.0</td>\n",
       "      <td>0.0</td>\n",
       "      <td>1.0</td>\n",
       "      <td>0.0</td>\n",
       "      <td>...</td>\n",
       "      <td>{'n_components': {'type': 'VALUE', 'data': 10}}</td>\n",
       "      <td>0</td>\n",
       "      <td>0</td>\n",
       "      <td>0.0</td>\n",
       "      <td>0</td>\n",
       "      <td>0</td>\n",
       "      <td>0</td>\n",
       "      <td>0.0</td>\n",
       "      <td>LL0_1479_hill_valley</td>\n",
       "      <td>classification</td>\n",
       "    </tr>\n",
       "  </tbody>\n",
       "</table>\n",
       "<p>5 rows × 42 columns</p>\n",
       "</div>"
      ],
      "text/plain": [
       "                      d3m.primitives.data.CastToType  \\\n",
       "0  {'type_to_cast': {'type': 'VALUE', 'data': 'fl...   \n",
       "1  {'type_to_cast': {'type': 'VALUE', 'data': 'fl...   \n",
       "2  {'type_to_cast': {'type': 'VALUE', 'data': 'fl...   \n",
       "3  {'type_to_cast': {'type': 'VALUE', 'data': 'fl...   \n",
       "4  {'type_to_cast': {'type': 'VALUE', 'data': 'fl...   \n",
       "\n",
       "   d3m.primitives.data.ExtractColumnsBySemanticTypes  \\\n",
       "0  {'semantic_types': {'type': 'VALUE', 'data': [...   \n",
       "1  {'semantic_types': {'type': 'VALUE', 'data': [...   \n",
       "2  {'semantic_types': {'type': 'VALUE', 'data': [...   \n",
       "3  {'semantic_types': {'type': 'VALUE', 'data': [...   \n",
       "4  {'semantic_types': {'type': 'VALUE', 'data': [...   \n",
       "\n",
       "   d3m.primitives.datasets.DatasetToDataFrame  \\\n",
       "0                                         1.0   \n",
       "1                                         1.0   \n",
       "2                                         1.0   \n",
       "3                                         1.0   \n",
       "4                                         1.0   \n",
       "\n",
       "   d3m.primitives.dsbox.CleaningFeaturizer d3m.primitives.dsbox.CorexText  \\\n",
       "0                                      1.0                            1.0   \n",
       "1                                      1.0                            1.0   \n",
       "2                                      1.0                            1.0   \n",
       "3                                      1.0                            1.0   \n",
       "4                                      1.0                            1.0   \n",
       "\n",
       "   d3m.primitives.dsbox.DataFrameToTensor  d3m.primitives.dsbox.Denormalize  \\\n",
       "0                                     0.0                               1.0   \n",
       "1                                     0.0                               1.0   \n",
       "2                                     0.0                               1.0   \n",
       "3                                     0.0                               1.0   \n",
       "4                                     0.0                               1.0   \n",
       "\n",
       "   d3m.primitives.dsbox.DoNothing  d3m.primitives.dsbox.Encoder  \\\n",
       "0                             0.0                           1.0   \n",
       "1                             0.0                           1.0   \n",
       "2                             0.0                           1.0   \n",
       "3                             1.0                           1.0   \n",
       "4                             0.0                           1.0   \n",
       "\n",
       "   d3m.primitives.dsbox.IQRScaler       ...        \\\n",
       "0                             0.0       ...         \n",
       "1                             0.0       ...         \n",
       "2                             0.0       ...         \n",
       "3                             0.0       ...         \n",
       "4                             0.0       ...         \n",
       "\n",
       "                 d3m.primitives.sklearn_wrap.SKPCA  \\\n",
       "0  {'n_components': {'type': 'VALUE', 'data': 15}}   \n",
       "1  {'n_components': {'type': 'VALUE', 'data': 10}}   \n",
       "2  {'n_components': {'type': 'VALUE', 'data': 10}}   \n",
       "3  {'n_components': {'type': 'VALUE', 'data': 10}}   \n",
       "4  {'n_components': {'type': 'VALUE', 'data': 10}}   \n",
       "\n",
       "   d3m.primitives.sklearn_wrap.SKRandomForestClassifier  \\\n",
       "0  {'bootstrap': {'type': 'VALUE', 'data': True},...      \n",
       "1                                                  0      \n",
       "2                                                  0      \n",
       "3                                                  0      \n",
       "4                                                  0      \n",
       "\n",
       "   d3m.primitives.sklearn_wrap.SKRandomForestRegressor  \\\n",
       "0                                                  0     \n",
       "1                                                  0     \n",
       "2                                                  0     \n",
       "3                                                  0     \n",
       "4                                                  0     \n",
       "\n",
       "   d3m.primitives.sklearn_wrap.SKRidge  \\\n",
       "0                                  0.0   \n",
       "1                                  0.0   \n",
       "2                                  0.0   \n",
       "3                                  0.0   \n",
       "4                                  0.0   \n",
       "\n",
       "   d3m.primitives.sklearn_wrap.SKSGDClassifier  \\\n",
       "0                                            0   \n",
       "1                                            0   \n",
       "2                                            0   \n",
       "3                                            0   \n",
       "4                                            0   \n",
       "\n",
       "   d3m.primitives.sklearn_wrap.SKSGDRegressor  \\\n",
       "0                                           0   \n",
       "1                                           0   \n",
       "2                                           0   \n",
       "3                                           0   \n",
       "4                                           0   \n",
       "\n",
       "   d3m.primitives.sklearn_wrap.SKSelectFwe  \\\n",
       "0                                        0   \n",
       "1                                        0   \n",
       "2                                        0   \n",
       "3                                        0   \n",
       "4                                        0   \n",
       "\n",
       "   d3m.primitives.sri.baseline.MeanBaseline               dataset  \\\n",
       "0                                       0.0  LL0_1479_hill_valley   \n",
       "1                                       0.0  LL0_1479_hill_valley   \n",
       "2                                       0.0  LL0_1479_hill_valley   \n",
       "3                                       0.0  LL0_1479_hill_valley   \n",
       "4                                       0.0  LL0_1479_hill_valley   \n",
       "\n",
       "             task  \n",
       "0  classification  \n",
       "1  classification  \n",
       "2  classification  \n",
       "3  classification  \n",
       "4  classification  \n",
       "\n",
       "[5 rows x 42 columns]"
      ]
     },
     "execution_count": 136,
     "metadata": {},
     "output_type": "execute_result"
    }
   ],
   "source": [
    "df_pipes.head()"
   ]
  },
  {
   "cell_type": "code",
   "execution_count": 138,
   "metadata": {},
   "outputs": [
    {
     "data": {
      "text/plain": [
       "str"
      ]
     },
     "execution_count": 138,
     "metadata": {},
     "output_type": "execute_result"
    }
   ],
   "source": [
    "type(df_pipes.iloc[0,0])"
   ]
  },
  {
   "cell_type": "markdown",
   "metadata": {},
   "source": [
    "## Encoding the primitives"
   ]
  },
  {
   "cell_type": "markdown",
   "metadata": {},
   "source": [
    "We are planning to consider each primitive-hyperparamter pair as a distinct primitive. So in this step we encode each of the columns using a OH encoding. To make sure we do not encode primitives that do not have any hyperparamter (or their hypers not used in our pipelines) we exclude the columns that do not have any hyperparames set in them from encoding."
   ]
  },
  {
   "cell_type": "code",
   "execution_count": 124,
   "metadata": {},
   "outputs": [
    {
     "data": {
      "text/plain": [
       "['d3m.primitives.data.CastToType',\n",
       " 'd3m.primitives.data.ExtractColumnsBySemanticTypes',\n",
       " 'd3m.primitives.dsbox.CorexText',\n",
       " 'd3m.primitives.sklearn_wrap.SKBernoulliNB',\n",
       " 'd3m.primitives.sklearn_wrap.SKExtraTreesClassifier',\n",
       " 'd3m.primitives.sklearn_wrap.SKExtraTreesRegressor',\n",
       " 'd3m.primitives.sklearn_wrap.SKGenericUnivariateSelect',\n",
       " 'd3m.primitives.sklearn_wrap.SKGradientBoostingClassifier',\n",
       " 'd3m.primitives.sklearn_wrap.SKGradientBoostingRegressor',\n",
       " 'd3m.primitives.sklearn_wrap.SKLinearSVC',\n",
       " 'd3m.primitives.sklearn_wrap.SKMultinomialNB',\n",
       " 'd3m.primitives.sklearn_wrap.SKPCA',\n",
       " 'd3m.primitives.sklearn_wrap.SKRandomForestClassifier',\n",
       " 'd3m.primitives.sklearn_wrap.SKRandomForestRegressor',\n",
       " 'd3m.primitives.sklearn_wrap.SKSGDClassifier',\n",
       " 'd3m.primitives.sklearn_wrap.SKSGDRegressor',\n",
       " 'd3m.primitives.sklearn_wrap.SKSelectFwe']"
      ]
     },
     "execution_count": 124,
     "metadata": {},
     "output_type": "execute_result"
    }
   ],
   "source": [
    "enc_columns = df_pipes.dtypes[df_pipes.dtypes == np.dtype('O')].index.tolist()\n",
    "enc_columns.remove('dataset')\n",
    "enc_columns.remove('task')\n",
    "enc_columns"
   ]
  },
  {
   "cell_type": "code",
   "execution_count": 128,
   "metadata": {},
   "outputs": [],
   "source": [
    "df_pipes_casted = df_pipes\n",
    "df_pipes_casted[enc_columns] = df_pipes[enc_columns].astype(str)"
   ]
  },
  {
   "cell_type": "code",
   "execution_count": 130,
   "metadata": {},
   "outputs": [
    {
     "ename": "AttributeError",
     "evalue": "head not found",
     "output_type": "error",
     "traceback": [
      "\u001b[0;31m---------------------------------------------------------------------------\u001b[0m",
      "\u001b[0;31mAttributeError\u001b[0m                            Traceback (most recent call last)",
      "\u001b[0;32m<ipython-input-130-58766fea1b9e>\u001b[0m in \u001b[0;36m<module>\u001b[0;34m\u001b[0m\n\u001b[1;32m      2\u001b[0m \u001b[0moh_enc\u001b[0m\u001b[0;34m.\u001b[0m\u001b[0mfit\u001b[0m\u001b[0;34m(\u001b[0m\u001b[0mdf_pipes_casted\u001b[0m\u001b[0;34m)\u001b[0m\u001b[0;34m\u001b[0m\u001b[0;34m\u001b[0m\u001b[0m\n\u001b[1;32m      3\u001b[0m \u001b[0mdf_enc_pipes\u001b[0m \u001b[0;34m=\u001b[0m \u001b[0moh_enc\u001b[0m\u001b[0;34m.\u001b[0m\u001b[0mtransform\u001b[0m\u001b[0;34m(\u001b[0m\u001b[0mdf_pipes_casted\u001b[0m\u001b[0;34m)\u001b[0m\u001b[0;34m\u001b[0m\u001b[0;34m\u001b[0m\u001b[0m\n\u001b[0;32m----> 4\u001b[0;31m \u001b[0mdf_enc_pipes\u001b[0m\u001b[0;34m.\u001b[0m\u001b[0mhead\u001b[0m\u001b[0;34m(\u001b[0m\u001b[0;34m)\u001b[0m\u001b[0;34m\u001b[0m\u001b[0;34m\u001b[0m\u001b[0m\n\u001b[0m",
      "\u001b[0;32m/nfs1/dsbox-repo/qasemi/miniconda/envs/fastmeta/lib/python3.6/site-packages/scipy/sparse/base.py\u001b[0m in \u001b[0;36m__getattr__\u001b[0;34m(self, attr)\u001b[0m\n\u001b[1;32m    684\u001b[0m             \u001b[0;32mreturn\u001b[0m \u001b[0mself\u001b[0m\u001b[0;34m.\u001b[0m\u001b[0mgetnnz\u001b[0m\u001b[0;34m(\u001b[0m\u001b[0;34m)\u001b[0m\u001b[0;34m\u001b[0m\u001b[0;34m\u001b[0m\u001b[0m\n\u001b[1;32m    685\u001b[0m         \u001b[0;32melse\u001b[0m\u001b[0;34m:\u001b[0m\u001b[0;34m\u001b[0m\u001b[0;34m\u001b[0m\u001b[0m\n\u001b[0;32m--> 686\u001b[0;31m             \u001b[0;32mraise\u001b[0m \u001b[0mAttributeError\u001b[0m\u001b[0;34m(\u001b[0m\u001b[0mattr\u001b[0m \u001b[0;34m+\u001b[0m \u001b[0;34m\" not found\"\u001b[0m\u001b[0;34m)\u001b[0m\u001b[0;34m\u001b[0m\u001b[0;34m\u001b[0m\u001b[0m\n\u001b[0m\u001b[1;32m    687\u001b[0m \u001b[0;34m\u001b[0m\u001b[0m\n\u001b[1;32m    688\u001b[0m     \u001b[0;32mdef\u001b[0m \u001b[0mtranspose\u001b[0m\u001b[0;34m(\u001b[0m\u001b[0mself\u001b[0m\u001b[0;34m,\u001b[0m \u001b[0maxes\u001b[0m\u001b[0;34m=\u001b[0m\u001b[0;32mNone\u001b[0m\u001b[0;34m,\u001b[0m \u001b[0mcopy\u001b[0m\u001b[0;34m=\u001b[0m\u001b[0;32mFalse\u001b[0m\u001b[0;34m)\u001b[0m\u001b[0;34m:\u001b[0m\u001b[0;34m\u001b[0m\u001b[0;34m\u001b[0m\u001b[0m\n",
      "\u001b[0;31mAttributeError\u001b[0m: head not found"
     ]
    }
   ],
   "source": [
    "oh_enc = OHEncoder()\n",
    "oh_enc.fit(df_pipes_casted)\n",
    "df_enc_pipes = oh_enc.transform(df_pipes_casted)\n"
   ]
  },
  {
   "cell_type": "code",
   "execution_count": 131,
   "metadata": {},
   "outputs": [
    {
     "data": {
      "text/plain": [
       "<216483x2987 sparse matrix of type '<class 'numpy.float64'>'\n",
       "\twith 9092286 stored elements in Compressed Sparse Row format>"
      ]
     },
     "execution_count": 131,
     "metadata": {},
     "output_type": "execute_result"
    }
   ],
   "source": [
    "df_enc_pipes"
   ]
  },
  {
   "cell_type": "code",
   "execution_count": null,
   "metadata": {},
   "outputs": [],
   "source": []
  },
  {
   "cell_type": "code",
   "execution_count": 143,
   "metadata": {},
   "outputs": [
    {
     "name": "stdout",
     "output_type": "stream",
     "text": [
      "{\"template_name\": \"default_classification_template\", \"problem_taskSubType\": \"binary\", \"total_time_used_without_cache\": 63.40709710121155, \"problem\": \"LL0_1479_hill_valley\", \"parent_id\": \"9262133f-54d4-4b8f-a240-b37e703517c1\", \"context\": \"PRETRAINING\", \"inputs\": [{\"name\": \"input dataset\"}], \"total_time_used_with_cache\": 17.110462427139282, \"dataset\": \"ll0\", \"dataset_id\": \"LL0_1479_hill_valley_dataset_fd2d0189-dfd9-45d4-84db-a82f201a82c4\", \"schema\": \"https://metadata.datadrivendiscovery.org/schemas/v0/pipeline.json\", \"name\": \"dsbox_140345879754072\", \"outputs\": [{\"name\": \"predictions of input dataset\", \"data\": \"steps.12.produce\"}], \"created\": \"2018-08-10T10:21:51.399027Z\", \"id\": \"88f83d96-a668-452d-976e-8eb529c41743\", \"baseline\": 0.8666666666666667, \"beat_baseline\": false, \"metric\": \"f1Macro\", \"template\": {\"name\": \"default_classification_template\", \"target\": \"extract_target_step\", \"taskSubtype\": [\"BINARY\", \"MULTICLASS\"], \"taskType\": [\"CLASSIFICATION\"], \"steps\": [{\"name\": \"denormalize_step\", \"primitives\": [\"d3m.primitives.dsbox.Denormalize\"], \"inputs\": [\"template_input\"]}, {\"name\": \"to_dataframe_step\", \"primitives\": [\"d3m.primitives.datasets.DatasetToDataFrame\"], \"inputs\": [\"denormalize_step\"]}, {\"name\": \"extract_attribute_step\", \"primitives\": [\"d3m.primitives.data.ExtractColumnsBySemanticTypes\"], \"inputs\": [\"to_dataframe_step\"]}, {\"name\": \"profiler_step\", \"primitives\": [\"d3m.primitives.dsbox.Profiler\"], \"inputs\": [\"extract_attribute_step\"]}, {\"name\": \"clean_step\", \"primitives\": [\"d3m.primitives.dsbox.CleaningFeaturizer\", \"d3m.primitives.dsbox.DoNothing\"], \"inputs\": [\"profiler_step\"]}, {\"name\": \"corex_step\", \"primitives\": [\"d3m.primitives.dsbox.CorexText\"], \"inputs\": [\"clean_step\"]}, {\"name\": \"encoder_step\", \"primitives\": [\"d3m.primitives.dsbox.Encoder\", \"d3m.primitives.dsbox.DoNothing\"], \"inputs\": [\"corex_step\"]}, {\"name\": \"impute_step\", \"primitives\": [\"d3m.primitives.dsbox.MeanImputation\"], \"inputs\": [\"encoder_step\"]}, {\"name\": \"scaler_step\", \"primitives\": [\"d3m.primitives.sklearn_wrap.SKMaxAbsScaler\", \"d3m.primitives.dsbox.IQRScaler\", \"d3m.primitives.dsbox.DoNothing\"], \"inputs\": [\"impute_step\"]}, {\"name\": \"cast_1_step\", \"primitives\": [\"d3m.primitives.data.CastToType\", \"d3m.primitives.dsbox.DoNothing\"], \"inputs\": [\"scaler_step\"]}, {\"name\": \"data\", \"primitives\": [\"d3m.primitives.sklearn_wrap.SKPCA\", \"d3m.primitives.dsbox.DoNothing\"], \"inputs\": [\"cast_1_step\"]}, {\"name\": \"target\", \"primitives\": [\"d3m.primitives.data.ExtractColumnsBySemanticTypes\"], \"inputs\": [\"to_dataframe_step\"]}, {\"name\": \"model_step\", \"runtime\": {\"stratified\": true, \"cross_validation\": 10}, \"primitives\": [\"d3m.primitives.sklearn_wrap.SKRandomForestClassifier\", \"d3m.primitives.sklearn_wrap.SKExtraTreesClassifier\", \"d3m.primitives.sklearn_wrap.SKGradientBoostingClassifier\"], \"inputs\": [\"data\", \"target\"]}], \"output\": \"model_step\", \"inputType\": \"table\"}, \"description\": \"\", \"steps\": [{\"type\": \"PRIMITIVE\", \"arguments\": {\"inputs\": {\"type\": \"CONTAINER\", \"data\": \"inputs.0\"}}, \"timing\": {\"fit\": 0.0042111873626708984, \"produce\": 0.0008385181427001953}, \"outputs\": [{\"id\": \"produce\"}], \"primitive\": {\"id\": \"dsbox-denormalize(from d3m)\", \"digest\": \"8337a2c4f9266d563fff0fcea7f1cab678367f484dea230edea2769f5886f0c4\", \"python_path\": \"d3m.primitives.dsbox.Denormalize\", \"name\": \"DSBox denormalize\", \"version\": \"1.3.0\"}}, {\"type\": \"PRIMITIVE\", \"arguments\": {\"inputs\": {\"type\": \"CONTAINER\", \"data\": \"steps.0.produce\"}}, \"timing\": {\"fit\": 0.07030224800109863, \"produce\": 0.0654449462890625}, \"outputs\": [{\"id\": \"produce\"}], \"primitive\": {\"id\": \"4b42ce1e-9b98-4a25-b68e-fad13311eb65\", \"digest\": \"44727054017b5982e21439aa900c75fe5453684110e2d0b4b748184d29975072\", \"python_path\": \"d3m.primitives.datasets.DatasetToDataFrame\", \"name\": \"Extract a DataFrame from a Dataset\", \"version\": \"0.3.0\"}}, {\"arguments\": {\"inputs\": {\"type\": \"CONTAINER\", \"data\": \"steps.1.produce\"}}, \"hyperparams\": {\"semantic_types\": {\"type\": \"VALUE\", \"data\": [\"https://metadata.datadrivendiscovery.org/types/Attribute\"]}}, \"outputs\": [{\"id\": \"produce\"}], \"timing\": {\"fit\": 1.4460182189941406, \"produce\": 0.4338679313659668}, \"type\": \"PRIMITIVE\", \"primitive\": {\"id\": \"4503a4c6-42f7-45a1-a1d4-ed69699cf5e1\", \"digest\": \"44727054017b5982e21439aa900c75fe5453684110e2d0b4b748184d29975072\", \"python_path\": \"d3m.primitives.data.ExtractColumnsBySemanticTypes\", \"name\": \"Extracts columns by semantic type\", \"version\": \"0.2.0\"}}, {\"type\": \"PRIMITIVE\", \"arguments\": {\"inputs\": {\"type\": \"CONTAINER\", \"data\": \"steps.2.produce\"}}, \"timing\": {\"fit\": 12.29658555984497, \"produce\": 5.824573040008545}, \"outputs\": [{\"id\": \"produce\"}], \"primitive\": {\"id\": \"b2612849-39e4-33ce-bfda-24f3e2cb1e93\", \"digest\": \"8337a2c4f9266d563fff0fcea7f1cab678367f484dea230edea2769f5886f0c4\", \"python_path\": \"d3m.primitives.dsbox.Profiler\", \"name\": \"DSBox Profiler\", \"version\": \"1.3.0\"}}, {\"type\": \"PRIMITIVE\", \"arguments\": {\"inputs\": {\"type\": \"CONTAINER\", \"data\": \"steps.3.produce\"}}, \"timing\": {\"fit\": 5.5255677700042725, \"produce\": 2.2389328479766846}, \"outputs\": [{\"id\": \"produce\"}], \"primitive\": {\"id\": \"dsbox-cleaning-featurizer\", \"digest\": \"8337a2c4f9266d563fff0fcea7f1cab678367f484dea230edea2769f5886f0c4\", \"python_path\": \"d3m.primitives.dsbox.CleaningFeaturizer\", \"name\": \"DSBox Cleaning Featurizer\", \"version\": \"1.3.0\"}}, {\"type\": \"PRIMITIVE\", \"arguments\": {\"inputs\": {\"type\": \"CONTAINER\", \"data\": \"steps.4.produce\"}}, \"timing\": {\"fit\": 0.08479094505310059, \"produce\": 0.0008523464202880859}, \"outputs\": [{\"id\": \"produce\"}], \"primitive\": {\"id\": \"18e63b10-c5b7-34bc-a670-f2c831d6b4bf\", \"digest\": \"35e5e1650a05365938270d42a91eac790eba247ae124ed1e1e78e1b538a2bae7\", \"python_path\": \"d3m.primitives.dsbox.CorexText\", \"name\": \"CorexText\", \"version\": \"1.0.0\"}}, {\"type\": \"PRIMITIVE\", \"arguments\": {\"inputs\": {\"type\": \"CONTAINER\", \"data\": \"steps.5.produce\"}}, \"timing\": {\"fit\": 2.56203293800354, \"produce\": 0.7356724739074707}, \"outputs\": [{\"id\": \"produce\"}], \"primitive\": {\"id\": \"18f0bb42-6350-3753-8f2d-d1c3da70f279\", \"digest\": \"8337a2c4f9266d563fff0fcea7f1cab678367f484dea230edea2769f5886f0c4\", \"python_path\": \"d3m.primitives.dsbox.Encoder\", \"name\": \"ISI DSBox Data Encoder\", \"version\": \"1.3.0\"}}, {\"type\": \"PRIMITIVE\", \"arguments\": {\"inputs\": {\"type\": \"CONTAINER\", \"data\": \"steps.6.produce\"}}, \"timing\": {\"fit\": 7.667677879333496, \"produce\": 2.8743844032287598}, \"outputs\": [{\"id\": \"produce\"}], \"primitive\": {\"id\": \"7894b699-61e9-3a50-ac9f-9bc510466667\", \"digest\": \"8337a2c4f9266d563fff0fcea7f1cab678367f484dea230edea2769f5886f0c4\", \"python_path\": \"d3m.primitives.dsbox.MeanImputation\", \"name\": \"DSBox Mean Imputer\", \"version\": \"1.3.0\"}}, {\"type\": \"PRIMITIVE\", \"arguments\": {\"inputs\": {\"type\": \"CONTAINER\", \"data\": \"steps.7.produce\"}}, \"timing\": {\"fit\": 0.07340216636657715, \"produce\": 0.00954437255859375}, \"outputs\": [{\"id\": \"produce\"}], \"primitive\": {\"id\": \"64d2ef5d-b221-3033-8342-76d0293fa99c\", \"digest\": \"d094bb2dffc1e6276dd3fd7ab48672c4eb369ce4afb295b1ff826a66a73496e2\", \"python_path\": \"d3m.primitives.sklearn_wrap.SKMaxAbsScaler\", \"name\": \"sklearn.preprocessing.data.MaxAbsScaler\", \"version\": \"2018.7.11\"}}, {\"arguments\": {\"inputs\": {\"type\": \"CONTAINER\", \"data\": \"steps.8.produce\"}}, \"hyperparams\": {\"type_to_cast\": {\"type\": \"VALUE\", \"data\": \"float\"}}, \"outputs\": [{\"id\": \"produce\"}], \"timing\": {\"fit\": 0.1273951530456543, \"produce\": 0.054845333099365234}, \"type\": \"PRIMITIVE\", \"primitive\": {\"id\": \"eb5fe752-f22a-4090-948b-aafcef203bf5\", \"digest\": \"44727054017b5982e21439aa900c75fe5453684110e2d0b4b748184d29975072\", \"python_path\": \"d3m.primitives.data.CastToType\", \"name\": \"Casts DataFrame\", \"version\": \"0.2.0\"}}, {\"arguments\": {\"inputs\": {\"type\": \"CONTAINER\", \"data\": \"steps.9.produce\"}}, \"hyperparams\": {\"n_components\": {\"type\": \"VALUE\", \"data\": 15}}, \"outputs\": [{\"id\": \"produce\"}], \"timing\": {\"fit\": 0.14830732345581055, \"produce\": 0.011184453964233398}, \"type\": \"PRIMITIVE\", \"primitive\": {\"id\": \"2fb28cd1-5de6-3663-a2dc-09c786fba7f4\", \"digest\": \"d094bb2dffc1e6276dd3fd7ab48672c4eb369ce4afb295b1ff826a66a73496e2\", \"python_path\": \"d3m.primitives.sklearn_wrap.SKPCA\", \"name\": \"sklearn.decomposition.pca.PCA\", \"version\": \"2018.7.11\"}}, {\"arguments\": {\"inputs\": {\"type\": \"CONTAINER\", \"data\": \"steps.1.produce\"}}, \"hyperparams\": {\"semantic_types\": {\"type\": \"VALUE\", \"data\": [\"https://metadata.datadrivendiscovery.org/types/TrueTarget\"]}}, \"outputs\": [{\"id\": \"produce\"}], \"timing\": {\"fit\": 1.4460182189941406, \"produce\": 0.4338679313659668}, \"type\": \"PRIMITIVE\", \"primitive\": {\"id\": \"4503a4c6-42f7-45a1-a1d4-ed69699cf5e1\", \"digest\": \"44727054017b5982e21439aa900c75fe5453684110e2d0b4b748184d29975072\", \"python_path\": \"d3m.primitives.data.ExtractColumnsBySemanticTypes\", \"name\": \"Extracts columns by semantic type\", \"version\": \"0.2.0\"}}, {\"arguments\": {\"outputs\": {\"type\": \"CONTAINER\", \"data\": \"steps.11.produce\"}, \"inputs\": {\"type\": \"CONTAINER\", \"data\": \"steps.10.produce\"}}, \"hyperparams\": {\"bootstrap\": {\"type\": \"VALUE\", \"data\": true}, \"min_samples_split\": {\"type\": \"VALUE\", \"data\": 2}, \"n_estimators\": {\"type\": \"VALUE\", \"data\": 10}, \"max_depth\": {\"type\": \"VALUE\", \"data\": 15}, \"min_samples_leaf\": {\"type\": \"VALUE\", \"data\": 1}, \"max_features\": {\"type\": \"VALUE\", \"data\": \"auto\"}}, \"outputs\": [{\"id\": \"produce\"}], \"timing\": {\"fit\": 0.5667729377746582, \"produce\": 0.006666660308837891}, \"type\": \"PRIMITIVE\", \"primitive\": {\"id\": \"1dd82833-5692-39cb-84fb-2455683075f3\", \"digest\": \"d094bb2dffc1e6276dd3fd7ab48672c4eb369ce4afb295b1ff826a66a73496e2\", \"python_path\": \"d3m.primitives.sklearn_wrap.SKRandomForestClassifier\", \"name\": \"sklearn.ensemble.forest.RandomForestClassifier\", \"version\": \"2018.7.11\"}}], \"metric_value\": 0.569992469879518, \"problem_taskType\": \"classification\", \"pipeline_rank\": 1.754409141951252}\n",
      "{\"template_name\": \"default_classification_template\", \"problem_taskSubType\": \"binary\", \"total_time_used_without_cache\": 69.86762952804565, \"problem\": \"LL0_1479_hill_valley\", \"parent_id\": \"16c6c958-da88-4ae9-bd60-040e6a3a766e\", \"context\": \"PRETRAINING\", \"inputs\": [{\"name\": \"input dataset\"}], \"total_time_used_with_cache\": 28.999743223190308, \"dataset\": \"ll0\", \"dataset_id\": \"LL0_1479_hill_valley_dataset_fd2d0189-dfd9-45d4-84db-a82f201a82c4\", \"schema\": \"https://metadata.datadrivendiscovery.org/schemas/v0/pipeline.json\", \"name\": \"dsbox_140348927961920\", \"outputs\": [{\"name\": \"predictions of input dataset\", \"data\": \"steps.12.produce\"}], \"created\": \"2018-08-10T10:26:23.617282Z\", \"id\": \"68c032f0-d0ef-40d3-8d2f-6c1238bf99c8\", \"baseline\": 0.8666666666666667, \"beat_baseline\": false, \"metric\": \"f1Macro\", \"template\": {\"name\": \"default_classification_template\", \"target\": \"extract_target_step\", \"taskSubtype\": [\"BINARY\", \"MULTICLASS\"], \"taskType\": [\"CLASSIFICATION\"], \"steps\": [{\"name\": \"denormalize_step\", \"primitives\": [\"d3m.primitives.dsbox.Denormalize\"], \"inputs\": [\"template_input\"]}, {\"name\": \"to_dataframe_step\", \"primitives\": [\"d3m.primitives.datasets.DatasetToDataFrame\"], \"inputs\": [\"denormalize_step\"]}, {\"name\": \"extract_attribute_step\", \"primitives\": [\"d3m.primitives.data.ExtractColumnsBySemanticTypes\"], \"inputs\": [\"to_dataframe_step\"]}, {\"name\": \"profiler_step\", \"primitives\": [\"d3m.primitives.dsbox.Profiler\"], \"inputs\": [\"extract_attribute_step\"]}, {\"name\": \"clean_step\", \"primitives\": [\"d3m.primitives.dsbox.CleaningFeaturizer\", \"d3m.primitives.dsbox.DoNothing\"], \"inputs\": [\"profiler_step\"]}, {\"name\": \"corex_step\", \"primitives\": [\"d3m.primitives.dsbox.CorexText\"], \"inputs\": [\"clean_step\"]}, {\"name\": \"encoder_step\", \"primitives\": [\"d3m.primitives.dsbox.Encoder\", \"d3m.primitives.dsbox.DoNothing\"], \"inputs\": [\"corex_step\"]}, {\"name\": \"impute_step\", \"primitives\": [\"d3m.primitives.dsbox.MeanImputation\"], \"inputs\": [\"encoder_step\"]}, {\"name\": \"scaler_step\", \"primitives\": [\"d3m.primitives.sklearn_wrap.SKMaxAbsScaler\", \"d3m.primitives.dsbox.IQRScaler\", \"d3m.primitives.dsbox.DoNothing\"], \"inputs\": [\"impute_step\"]}, {\"name\": \"cast_1_step\", \"primitives\": [\"d3m.primitives.data.CastToType\", \"d3m.primitives.dsbox.DoNothing\"], \"inputs\": [\"scaler_step\"]}, {\"name\": \"data\", \"primitives\": [\"d3m.primitives.sklearn_wrap.SKPCA\", \"d3m.primitives.dsbox.DoNothing\"], \"inputs\": [\"cast_1_step\"]}, {\"name\": \"target\", \"primitives\": [\"d3m.primitives.data.ExtractColumnsBySemanticTypes\"], \"inputs\": [\"to_dataframe_step\"]}, {\"name\": \"model_step\", \"runtime\": {\"stratified\": true, \"cross_validation\": 10}, \"primitives\": [\"d3m.primitives.sklearn_wrap.SKRandomForestClassifier\", \"d3m.primitives.sklearn_wrap.SKExtraTreesClassifier\", \"d3m.primitives.sklearn_wrap.SKGradientBoostingClassifier\"], \"inputs\": [\"data\", \"target\"]}], \"output\": \"model_step\", \"inputType\": \"table\"}, \"description\": \"\", \"steps\": [{\"type\": \"PRIMITIVE\", \"arguments\": {\"inputs\": {\"type\": \"CONTAINER\", \"data\": \"inputs.0\"}}, \"timing\": {\"fit\": 0.0042111873626708984, \"produce\": 0.0008206367492675781}, \"outputs\": [{\"id\": \"produce\"}], \"primitive\": {\"id\": \"dsbox-denormalize(from d3m)\", \"digest\": \"8337a2c4f9266d563fff0fcea7f1cab678367f484dea230edea2769f5886f0c4\", \"python_path\": \"d3m.primitives.dsbox.Denormalize\", \"name\": \"DSBox denormalize\", \"version\": \"1.3.0\"}}, {\"type\": \"PRIMITIVE\", \"arguments\": {\"inputs\": {\"type\": \"CONTAINER\", \"data\": \"steps.0.produce\"}}, \"timing\": {\"fit\": 0.07030224800109863, \"produce\": 0.0650177001953125}, \"outputs\": [{\"id\": \"produce\"}], \"primitive\": {\"id\": \"4b42ce1e-9b98-4a25-b68e-fad13311eb65\", \"digest\": \"44727054017b5982e21439aa900c75fe5453684110e2d0b4b748184d29975072\", \"python_path\": \"d3m.primitives.datasets.DatasetToDataFrame\", \"name\": \"Extract a DataFrame from a Dataset\", \"version\": \"0.3.0\"}}, {\"arguments\": {\"inputs\": {\"type\": \"CONTAINER\", \"data\": \"steps.1.produce\"}}, \"hyperparams\": {\"semantic_types\": {\"type\": \"VALUE\", \"data\": [\"https://metadata.datadrivendiscovery.org/types/Attribute\"]}}, \"outputs\": [{\"id\": \"produce\"}], \"timing\": {\"fit\": 1.4460182189941406, \"produce\": 0.4333319664001465}, \"type\": \"PRIMITIVE\", \"primitive\": {\"id\": \"4503a4c6-42f7-45a1-a1d4-ed69699cf5e1\", \"digest\": \"44727054017b5982e21439aa900c75fe5453684110e2d0b4b748184d29975072\", \"python_path\": \"d3m.primitives.data.ExtractColumnsBySemanticTypes\", \"name\": \"Extracts columns by semantic type\", \"version\": \"0.2.0\"}}, {\"type\": \"PRIMITIVE\", \"arguments\": {\"inputs\": {\"type\": \"CONTAINER\", \"data\": \"steps.2.produce\"}}, \"timing\": {\"fit\": 12.29658555984497, \"produce\": 7.828761577606201}, \"outputs\": [{\"id\": \"produce\"}], \"primitive\": {\"id\": \"b2612849-39e4-33ce-bfda-24f3e2cb1e93\", \"digest\": \"8337a2c4f9266d563fff0fcea7f1cab678367f484dea230edea2769f5886f0c4\", \"python_path\": \"d3m.primitives.dsbox.Profiler\", \"name\": \"DSBox Profiler\", \"version\": \"1.3.0\"}}, {\"type\": \"PRIMITIVE\", \"arguments\": {\"inputs\": {\"type\": \"CONTAINER\", \"data\": \"steps.3.produce\"}}, \"timing\": {\"fit\": 5.5255677700042725, \"produce\": 2.306816577911377}, \"outputs\": [{\"id\": \"produce\"}], \"primitive\": {\"id\": \"dsbox-cleaning-featurizer\", \"digest\": \"8337a2c4f9266d563fff0fcea7f1cab678367f484dea230edea2769f5886f0c4\", \"python_path\": \"d3m.primitives.dsbox.CleaningFeaturizer\", \"name\": \"DSBox Cleaning Featurizer\", \"version\": \"1.3.0\"}}, {\"type\": \"PRIMITIVE\", \"arguments\": {\"inputs\": {\"type\": \"CONTAINER\", \"data\": \"steps.4.produce\"}}, \"timing\": {\"fit\": 0.08479094505310059, \"produce\": 0.0010592937469482422}, \"outputs\": [{\"id\": \"produce\"}], \"primitive\": {\"id\": \"18e63b10-c5b7-34bc-a670-f2c831d6b4bf\", \"digest\": \"35e5e1650a05365938270d42a91eac790eba247ae124ed1e1e78e1b538a2bae7\", \"python_path\": \"d3m.primitives.dsbox.CorexText\", \"name\": \"CorexText\", \"version\": \"1.0.0\"}}, {\"type\": \"PRIMITIVE\", \"arguments\": {\"inputs\": {\"type\": \"CONTAINER\", \"data\": \"steps.5.produce\"}}, \"timing\": {\"fit\": 2.56203293800354, \"produce\": 1.190565586090088}, \"outputs\": [{\"id\": \"produce\"}], \"primitive\": {\"id\": \"18f0bb42-6350-3753-8f2d-d1c3da70f279\", \"digest\": \"8337a2c4f9266d563fff0fcea7f1cab678367f484dea230edea2769f5886f0c4\", \"python_path\": \"d3m.primitives.dsbox.Encoder\", \"name\": \"ISI DSBox Data Encoder\", \"version\": \"1.3.0\"}}, {\"type\": \"PRIMITIVE\", \"arguments\": {\"inputs\": {\"type\": \"CONTAINER\", \"data\": \"steps.6.produce\"}}, \"timing\": {\"fit\": 7.667677879333496, \"produce\": 5.89724326133728}, \"outputs\": [{\"id\": \"produce\"}], \"primitive\": {\"id\": \"7894b699-61e9-3a50-ac9f-9bc510466667\", \"digest\": \"8337a2c4f9266d563fff0fcea7f1cab678367f484dea230edea2769f5886f0c4\", \"python_path\": \"d3m.primitives.dsbox.MeanImputation\", \"name\": \"DSBox Mean Imputer\", \"version\": \"1.3.0\"}}, {\"type\": \"PRIMITIVE\", \"arguments\": {\"inputs\": {\"type\": \"CONTAINER\", \"data\": \"steps.7.produce\"}}, \"timing\": {\"fit\": 0.07340216636657715, \"produce\": 0.018984556198120117}, \"outputs\": [{\"id\": \"produce\"}], \"primitive\": {\"id\": \"64d2ef5d-b221-3033-8342-76d0293fa99c\", \"digest\": \"d094bb2dffc1e6276dd3fd7ab48672c4eb369ce4afb295b1ff826a66a73496e2\", \"python_path\": \"d3m.primitives.sklearn_wrap.SKMaxAbsScaler\", \"name\": \"sklearn.preprocessing.data.MaxAbsScaler\", \"version\": \"2018.7.11\"}}, {\"arguments\": {\"inputs\": {\"type\": \"CONTAINER\", \"data\": \"steps.8.produce\"}}, \"hyperparams\": {\"type_to_cast\": {\"type\": \"VALUE\", \"data\": \"float\"}}, \"outputs\": [{\"id\": \"produce\"}], \"timing\": {\"fit\": 0.1273951530456543, \"produce\": 0.11258244514465332}, \"type\": \"PRIMITIVE\", \"primitive\": {\"id\": \"eb5fe752-f22a-4090-948b-aafcef203bf5\", \"digest\": \"44727054017b5982e21439aa900c75fe5453684110e2d0b4b748184d29975072\", \"python_path\": \"d3m.primitives.data.CastToType\", \"name\": \"Casts DataFrame\", \"version\": \"0.2.0\"}}, {\"arguments\": {\"inputs\": {\"type\": \"CONTAINER\", \"data\": \"steps.9.produce\"}}, \"hyperparams\": {\"n_components\": {\"type\": \"VALUE\", \"data\": 10}}, \"outputs\": [{\"id\": \"produce\"}], \"timing\": {\"fit\": 0.15425992012023926, \"produce\": 0.022265911102294922}, \"type\": \"PRIMITIVE\", \"primitive\": {\"id\": \"2fb28cd1-5de6-3663-a2dc-09c786fba7f4\", \"digest\": \"d094bb2dffc1e6276dd3fd7ab48672c4eb369ce4afb295b1ff826a66a73496e2\", \"python_path\": \"d3m.primitives.sklearn_wrap.SKPCA\", \"name\": \"sklearn.decomposition.pca.PCA\", \"version\": \"2018.7.11\"}}, {\"arguments\": {\"inputs\": {\"type\": \"CONTAINER\", \"data\": \"steps.1.produce\"}}, \"hyperparams\": {\"semantic_types\": {\"type\": \"VALUE\", \"data\": [\"https://metadata.datadrivendiscovery.org/types/TrueTarget\"]}}, \"outputs\": [{\"id\": \"produce\"}], \"timing\": {\"fit\": 1.4460182189941406, \"produce\": 0.4333319664001465}, \"type\": \"PRIMITIVE\", \"primitive\": {\"id\": \"4503a4c6-42f7-45a1-a1d4-ed69699cf5e1\", \"digest\": \"44727054017b5982e21439aa900c75fe5453684110e2d0b4b748184d29975072\", \"python_path\": \"d3m.primitives.data.ExtractColumnsBySemanticTypes\", \"name\": \"Extracts columns by semantic type\", \"version\": \"0.2.0\"}}, {\"arguments\": {\"outputs\": {\"type\": \"CONTAINER\", \"data\": \"steps.11.produce\"}, \"inputs\": {\"type\": \"CONTAINER\", \"data\": \"steps.10.produce\"}}, \"hyperparams\": {\"bootstrap\": {\"type\": \"VALUE\", \"data\": false}, \"min_samples_split\": {\"type\": \"VALUE\", \"data\": 2}, \"n_estimators\": {\"type\": \"VALUE\", \"data\": 10}, \"max_depth\": {\"type\": \"VALUE\", \"data\": 30}, \"min_samples_leaf\": {\"type\": \"VALUE\", \"data\": 1}, \"max_features\": {\"type\": \"VALUE\", \"data\": \"sqrt\"}}, \"outputs\": [{\"id\": \"produce\"}], \"timing\": {\"fit\": 1.5042436122894287, \"produce\": 0.012902498245239258}, \"type\": \"PRIMITIVE\", \"primitive\": {\"id\": \"c8a28f02-ef4a-35a8-87f1-cf79980f5c3e\", \"digest\": \"d094bb2dffc1e6276dd3fd7ab48672c4eb369ce4afb295b1ff826a66a73496e2\", \"python_path\": \"d3m.primitives.sklearn_wrap.SKExtraTreesClassifier\", \"name\": \"sklearn.ensemble.forest.ExtraTreesClassifier\", \"version\": \"2018.7.11\"}}], \"metric_value\": 0.6122801419105363, \"problem_taskType\": \"classification\", \"pipeline_rank\": 1.6332393157152494}\n",
      "{\"template_name\": \"default_classification_template\", \"problem_taskSubType\": \"binary\", \"total_time_used_without_cache\": 86.93675065040588, \"problem\": \"LL0_1479_hill_valley\", \"parent_id\": \"b1df664d-fe7d-42cc-ac89-eedc0ae522c6\", \"context\": \"PRETRAINING\", \"inputs\": [{\"name\": \"input dataset\"}], \"total_time_used_with_cache\": 47.831936836242676, \"dataset\": \"ll0\", \"dataset_id\": \"LL0_1479_hill_valley_dataset_fd2d0189-dfd9-45d4-84db-a82f201a82c4\", \"schema\": \"https://metadata.datadrivendiscovery.org/schemas/v0/pipeline.json\", \"name\": \"dsbox_140349932852856\", \"outputs\": [{\"name\": \"predictions of input dataset\", \"data\": \"steps.12.produce\"}], \"created\": \"2018-08-10T10:24:39.312722Z\", \"id\": \"df4cc3d6-a61b-4a93-9a1c-6528c81a3007\", \"baseline\": 0.8666666666666667, \"beat_baseline\": false, \"metric\": \"f1Macro\", \"template\": {\"name\": \"default_classification_template\", \"target\": \"extract_target_step\", \"taskSubtype\": [\"BINARY\", \"MULTICLASS\"], \"taskType\": [\"CLASSIFICATION\"], \"steps\": [{\"name\": \"denormalize_step\", \"primitives\": [\"d3m.primitives.dsbox.Denormalize\"], \"inputs\": [\"template_input\"]}, {\"name\": \"to_dataframe_step\", \"primitives\": [\"d3m.primitives.datasets.DatasetToDataFrame\"], \"inputs\": [\"denormalize_step\"]}, {\"name\": \"extract_attribute_step\", \"primitives\": [\"d3m.primitives.data.ExtractColumnsBySemanticTypes\"], \"inputs\": [\"to_dataframe_step\"]}, {\"name\": \"profiler_step\", \"primitives\": [\"d3m.primitives.dsbox.Profiler\"], \"inputs\": [\"extract_attribute_step\"]}, {\"name\": \"clean_step\", \"primitives\": [\"d3m.primitives.dsbox.CleaningFeaturizer\", \"d3m.primitives.dsbox.DoNothing\"], \"inputs\": [\"profiler_step\"]}, {\"name\": \"corex_step\", \"primitives\": [\"d3m.primitives.dsbox.CorexText\"], \"inputs\": [\"clean_step\"]}, {\"name\": \"encoder_step\", \"primitives\": [\"d3m.primitives.dsbox.Encoder\", \"d3m.primitives.dsbox.DoNothing\"], \"inputs\": [\"corex_step\"]}, {\"name\": \"impute_step\", \"primitives\": [\"d3m.primitives.dsbox.MeanImputation\"], \"inputs\": [\"encoder_step\"]}, {\"name\": \"scaler_step\", \"primitives\": [\"d3m.primitives.sklearn_wrap.SKMaxAbsScaler\", \"d3m.primitives.dsbox.IQRScaler\", \"d3m.primitives.dsbox.DoNothing\"], \"inputs\": [\"impute_step\"]}, {\"name\": \"cast_1_step\", \"primitives\": [\"d3m.primitives.data.CastToType\", \"d3m.primitives.dsbox.DoNothing\"], \"inputs\": [\"scaler_step\"]}, {\"name\": \"data\", \"primitives\": [\"d3m.primitives.sklearn_wrap.SKPCA\", \"d3m.primitives.dsbox.DoNothing\"], \"inputs\": [\"cast_1_step\"]}, {\"name\": \"target\", \"primitives\": [\"d3m.primitives.data.ExtractColumnsBySemanticTypes\"], \"inputs\": [\"to_dataframe_step\"]}, {\"name\": \"model_step\", \"runtime\": {\"stratified\": true, \"cross_validation\": 10}, \"primitives\": [\"d3m.primitives.sklearn_wrap.SKRandomForestClassifier\", \"d3m.primitives.sklearn_wrap.SKExtraTreesClassifier\", \"d3m.primitives.sklearn_wrap.SKGradientBoostingClassifier\"], \"inputs\": [\"data\", \"target\"]}], \"output\": \"model_step\", \"inputType\": \"table\"}, \"description\": \"\", \"steps\": [{\"type\": \"PRIMITIVE\", \"arguments\": {\"inputs\": {\"type\": \"CONTAINER\", \"data\": \"inputs.0\"}}, \"timing\": {\"fit\": 0.0042111873626708984, \"produce\": 0.001705169677734375}, \"outputs\": [{\"id\": \"produce\"}], \"primitive\": {\"id\": \"dsbox-denormalize(from d3m)\", \"digest\": \"8337a2c4f9266d563fff0fcea7f1cab678367f484dea230edea2769f5886f0c4\", \"python_path\": \"d3m.primitives.dsbox.Denormalize\", \"name\": \"DSBox denormalize\", \"version\": \"1.3.0\"}}, {\"type\": \"PRIMITIVE\", \"arguments\": {\"inputs\": {\"type\": \"CONTAINER\", \"data\": \"steps.0.produce\"}}, \"timing\": {\"fit\": 0.07030224800109863, \"produce\": 0.23133420944213867}, \"outputs\": [{\"id\": \"produce\"}], \"primitive\": {\"id\": \"4b42ce1e-9b98-4a25-b68e-fad13311eb65\", \"digest\": \"44727054017b5982e21439aa900c75fe5453684110e2d0b4b748184d29975072\", \"python_path\": \"d3m.primitives.datasets.DatasetToDataFrame\", \"name\": \"Extract a DataFrame from a Dataset\", \"version\": \"0.3.0\"}}, {\"arguments\": {\"inputs\": {\"type\": \"CONTAINER\", \"data\": \"steps.1.produce\"}}, \"hyperparams\": {\"semantic_types\": {\"type\": \"VALUE\", \"data\": [\"https://metadata.datadrivendiscovery.org/types/Attribute\"]}}, \"outputs\": [{\"id\": \"produce\"}], \"timing\": {\"fit\": 1.4460182189941406, \"produce\": 1.2980058193206787}, \"type\": \"PRIMITIVE\", \"primitive\": {\"id\": \"4503a4c6-42f7-45a1-a1d4-ed69699cf5e1\", \"digest\": \"44727054017b5982e21439aa900c75fe5453684110e2d0b4b748184d29975072\", \"python_path\": \"d3m.primitives.data.ExtractColumnsBySemanticTypes\", \"name\": \"Extracts columns by semantic type\", \"version\": \"0.2.0\"}}, {\"type\": \"PRIMITIVE\", \"arguments\": {\"inputs\": {\"type\": \"CONTAINER\", \"data\": \"steps.2.produce\"}}, \"timing\": {\"fit\": 12.29658555984497, \"produce\": 16.07949471473694}, \"outputs\": [{\"id\": \"produce\"}], \"primitive\": {\"id\": \"b2612849-39e4-33ce-bfda-24f3e2cb1e93\", \"digest\": \"8337a2c4f9266d563fff0fcea7f1cab678367f484dea230edea2769f5886f0c4\", \"python_path\": \"d3m.primitives.dsbox.Profiler\", \"name\": \"DSBox Profiler\", \"version\": \"1.3.0\"}}, {\"type\": \"PRIMITIVE\", \"arguments\": {\"inputs\": {\"type\": \"CONTAINER\", \"data\": \"steps.3.produce\"}}, \"timing\": {\"fit\": 5.5255677700042725, \"produce\": 3.4451217651367188}, \"outputs\": [{\"id\": \"produce\"}], \"primitive\": {\"id\": \"dsbox-cleaning-featurizer\", \"digest\": \"8337a2c4f9266d563fff0fcea7f1cab678367f484dea230edea2769f5886f0c4\", \"python_path\": \"d3m.primitives.dsbox.CleaningFeaturizer\", \"name\": \"DSBox Cleaning Featurizer\", \"version\": \"1.3.0\"}}, {\"type\": \"PRIMITIVE\", \"arguments\": {\"inputs\": {\"type\": \"CONTAINER\", \"data\": \"steps.4.produce\"}}, \"timing\": {\"fit\": 0.08479094505310059, \"produce\": 0.0022101402282714844}, \"outputs\": [{\"id\": \"produce\"}], \"primitive\": {\"id\": \"18e63b10-c5b7-34bc-a670-f2c831d6b4bf\", \"digest\": \"35e5e1650a05365938270d42a91eac790eba247ae124ed1e1e78e1b538a2bae7\", \"python_path\": \"d3m.primitives.dsbox.CorexText\", \"name\": \"CorexText\", \"version\": \"1.0.0\"}}, {\"type\": \"PRIMITIVE\", \"arguments\": {\"inputs\": {\"type\": \"CONTAINER\", \"data\": \"steps.5.produce\"}}, \"timing\": {\"fit\": 2.56203293800354, \"produce\": 2.3761179447174072}, \"outputs\": [{\"id\": \"produce\"}], \"primitive\": {\"id\": \"18f0bb42-6350-3753-8f2d-d1c3da70f279\", \"digest\": \"8337a2c4f9266d563fff0fcea7f1cab678367f484dea230edea2769f5886f0c4\", \"python_path\": \"d3m.primitives.dsbox.Encoder\", \"name\": \"ISI DSBox Data Encoder\", \"version\": \"1.3.0\"}}, {\"type\": \"PRIMITIVE\", \"arguments\": {\"inputs\": {\"type\": \"CONTAINER\", \"data\": \"steps.6.produce\"}}, \"timing\": {\"fit\": 7.667677879333496, \"produce\": 8.969332933425903}, \"outputs\": [{\"id\": \"produce\"}], \"primitive\": {\"id\": \"7894b699-61e9-3a50-ac9f-9bc510466667\", \"digest\": \"8337a2c4f9266d563fff0fcea7f1cab678367f484dea230edea2769f5886f0c4\", \"python_path\": \"d3m.primitives.dsbox.MeanImputation\", \"name\": \"DSBox Mean Imputer\", \"version\": \"1.3.0\"}}, {\"type\": \"PRIMITIVE\", \"arguments\": {\"inputs\": {\"type\": \"CONTAINER\", \"data\": \"steps.7.produce\"}}, \"timing\": {\"fit\": 0.07340216636657715, \"produce\": 0.01913285255432129}, \"outputs\": [{\"id\": \"produce\"}], \"primitive\": {\"id\": \"64d2ef5d-b221-3033-8342-76d0293fa99c\", \"digest\": \"d094bb2dffc1e6276dd3fd7ab48672c4eb369ce4afb295b1ff826a66a73496e2\", \"python_path\": \"d3m.primitives.sklearn_wrap.SKMaxAbsScaler\", \"name\": \"sklearn.preprocessing.data.MaxAbsScaler\", \"version\": \"2018.7.11\"}}, {\"arguments\": {\"inputs\": {\"type\": \"CONTAINER\", \"data\": \"steps.8.produce\"}}, \"hyperparams\": {\"type_to_cast\": {\"type\": \"VALUE\", \"data\": \"float\"}}, \"outputs\": [{\"id\": \"produce\"}], \"timing\": {\"fit\": 0.1273951530456543, \"produce\": 0.16220760345458984}, \"type\": \"PRIMITIVE\", \"primitive\": {\"id\": \"eb5fe752-f22a-4090-948b-aafcef203bf5\", \"digest\": \"44727054017b5982e21439aa900c75fe5453684110e2d0b4b748184d29975072\", \"python_path\": \"d3m.primitives.data.CastToType\", \"name\": \"Casts DataFrame\", \"version\": \"0.2.0\"}}, {\"arguments\": {\"inputs\": {\"type\": \"CONTAINER\", \"data\": \"steps.9.produce\"}}, \"hyperparams\": {\"n_components\": {\"type\": \"VALUE\", \"data\": 10}}, \"outputs\": [{\"id\": \"produce\"}], \"timing\": {\"fit\": 0.15425992012023926, \"produce\": 0.04111480712890625}, \"type\": \"PRIMITIVE\", \"primitive\": {\"id\": \"2fb28cd1-5de6-3663-a2dc-09c786fba7f4\", \"digest\": \"d094bb2dffc1e6276dd3fd7ab48672c4eb369ce4afb295b1ff826a66a73496e2\", \"python_path\": \"d3m.primitives.sklearn_wrap.SKPCA\", \"name\": \"sklearn.decomposition.pca.PCA\", \"version\": \"2018.7.11\"}}, {\"arguments\": {\"inputs\": {\"type\": \"CONTAINER\", \"data\": \"steps.1.produce\"}}, \"hyperparams\": {\"semantic_types\": {\"type\": \"VALUE\", \"data\": [\"https://metadata.datadrivendiscovery.org/types/TrueTarget\"]}}, \"outputs\": [{\"id\": \"produce\"}], \"timing\": {\"fit\": 1.4460182189941406, \"produce\": 1.2980058193206787}, \"type\": \"PRIMITIVE\", \"primitive\": {\"id\": \"4503a4c6-42f7-45a1-a1d4-ed69699cf5e1\", \"digest\": \"44727054017b5982e21439aa900c75fe5453684110e2d0b4b748184d29975072\", \"python_path\": \"d3m.primitives.data.ExtractColumnsBySemanticTypes\", \"name\": \"Extracts columns by semantic type\", \"version\": \"0.2.0\"}}, {\"arguments\": {\"outputs\": {\"type\": \"CONTAINER\", \"data\": \"steps.11.produce\"}, \"inputs\": {\"type\": \"CONTAINER\", \"data\": \"steps.10.produce\"}}, \"hyperparams\": {\"bootstrap\": {\"type\": \"VALUE\", \"data\": true}, \"min_samples_split\": {\"type\": \"VALUE\", \"data\": 10}, \"n_estimators\": {\"type\": \"VALUE\", \"data\": 50}, \"max_depth\": {\"type\": \"VALUE\", \"data\": 15}, \"min_samples_leaf\": {\"type\": \"VALUE\", \"data\": 1}, \"max_features\": {\"type\": \"VALUE\", \"data\": \"sqrt\"}}, \"outputs\": [{\"id\": \"produce\"}], \"timing\": {\"fit\": 2.098416328430176, \"produce\": 0.038613080978393555}, \"type\": \"PRIMITIVE\", \"primitive\": {\"id\": \"c8a28f02-ef4a-35a8-87f1-cf79980f5c3e\", \"digest\": \"d094bb2dffc1e6276dd3fd7ab48672c4eb369ce4afb295b1ff826a66a73496e2\", \"python_path\": \"d3m.primitives.sklearn_wrap.SKExtraTreesClassifier\", \"name\": \"sklearn.ensemble.forest.ExtraTreesClassifier\", \"version\": \"2018.7.11\"}}], \"metric_value\": 0.5965688987271721, \"problem_taskType\": \"classification\", \"pipeline_rank\": 1.676252319109462}\n",
      "{\"template_name\": \"naive_bayes_classification_template\", \"problem_taskSubType\": \"binary\", \"total_time_used_without_cache\": 66.83065867424011, \"problem\": \"LL0_1479_hill_valley\", \"parent_id\": \"218501a0-9b53-42a2-88c3-305a1e478ea0\", \"context\": \"PRETRAINING\", \"inputs\": [{\"name\": \"input dataset\"}], \"total_time_used_with_cache\": 17.11936068534851, \"dataset\": \"ll0\", \"dataset_id\": \"LL0_1479_hill_valley_dataset_fd2d0189-dfd9-45d4-84db-a82f201a82c4\", \"schema\": \"https://metadata.datadrivendiscovery.org/schemas/v0/pipeline.json\", \"name\": \"dsbox_140343603365568\", \"outputs\": [{\"name\": \"predictions of input dataset\", \"data\": \"steps.12.produce\"}], \"created\": \"2018-08-10T10:34:49.076903Z\", \"id\": \"03df5e73-8b39-4c51-b6be-433a8824ba16\", \"baseline\": 0.8666666666666667, \"beat_baseline\": false, \"metric\": \"f1Macro\", \"template\": {\"name\": \"naive_bayes_classification_template\", \"target\": \"extract_target_step\", \"taskSubtype\": [\"BINARY\", \"MULTICLASS\"], \"taskType\": [\"CLASSIFICATION\"], \"steps\": [{\"name\": \"denormalize_step\", \"primitives\": [\"d3m.primitives.dsbox.Denormalize\"], \"inputs\": [\"template_input\"]}, {\"name\": \"to_dataframe_step\", \"primitives\": [\"d3m.primitives.datasets.DatasetToDataFrame\"], \"inputs\": [\"denormalize_step\"]}, {\"name\": \"extract_attribute_step\", \"primitives\": [\"d3m.primitives.data.ExtractColumnsBySemanticTypes\"], \"inputs\": [\"to_dataframe_step\"]}, {\"name\": \"profiler_step\", \"primitives\": [\"d3m.primitives.dsbox.Profiler\"], \"inputs\": [\"extract_attribute_step\"]}, {\"name\": \"clean_step\", \"primitives\": [\"d3m.primitives.dsbox.CleaningFeaturizer\", \"d3m.primitives.dsbox.DoNothing\"], \"inputs\": [\"profiler_step\"]}, {\"name\": \"corex_step\", \"primitives\": [\"d3m.primitives.dsbox.CorexText\"], \"inputs\": [\"clean_step\"]}, {\"name\": \"encoder_step\", \"primitives\": [\"d3m.primitives.dsbox.Encoder\", \"d3m.primitives.dsbox.DoNothing\"], \"inputs\": [\"corex_step\"]}, {\"name\": \"impute_step\", \"primitives\": [\"d3m.primitives.dsbox.MeanImputation\"], \"inputs\": [\"encoder_step\"]}, {\"name\": \"scaler_step\", \"primitives\": [\"d3m.primitives.sklearn_wrap.SKMaxAbsScaler\", \"d3m.primitives.dsbox.IQRScaler\", \"d3m.primitives.dsbox.DoNothing\"], \"inputs\": [\"impute_step\"]}, {\"name\": \"cast_1_step\", \"primitives\": [\"d3m.primitives.data.CastToType\", \"d3m.primitives.dsbox.DoNothing\"], \"inputs\": [\"scaler_step\"]}, {\"name\": \"data\", \"primitives\": [\"d3m.primitives.sklearn_wrap.SKPCA\", \"d3m.primitives.dsbox.DoNothing\"], \"inputs\": [\"cast_1_step\"]}, {\"name\": \"target\", \"primitives\": [\"d3m.primitives.data.ExtractColumnsBySemanticTypes\"], \"inputs\": [\"to_dataframe_step\"]}, {\"name\": \"model_step\", \"runtime\": {\"stratified\": true, \"cross_validation\": 10}, \"primitives\": [\"d3m.primitives.sklearn_wrap.SKBernoulliNB\", \"d3m.primitives.sklearn_wrap.SKGaussianNB\", \"d3m.primitives.sklearn_wrap.SKMultinomialNB\"], \"inputs\": [\"data\", \"target\"]}], \"output\": \"model_step\", \"inputType\": \"table\"}, \"description\": \"\", \"steps\": [{\"type\": \"PRIMITIVE\", \"arguments\": {\"inputs\": {\"type\": \"CONTAINER\", \"data\": \"inputs.0\"}}, \"timing\": {\"fit\": 0.0042111873626708984, \"produce\": 0.0008158683776855469}, \"outputs\": [{\"id\": \"produce\"}], \"primitive\": {\"id\": \"dsbox-denormalize(from d3m)\", \"digest\": \"8337a2c4f9266d563fff0fcea7f1cab678367f484dea230edea2769f5886f0c4\", \"python_path\": \"d3m.primitives.dsbox.Denormalize\", \"name\": \"DSBox denormalize\", \"version\": \"1.3.0\"}}, {\"type\": \"PRIMITIVE\", \"arguments\": {\"inputs\": {\"type\": \"CONTAINER\", \"data\": \"steps.0.produce\"}}, \"timing\": {\"fit\": 0.07030224800109863, \"produce\": 0.06553387641906738}, \"outputs\": [{\"id\": \"produce\"}], \"primitive\": {\"id\": \"4b42ce1e-9b98-4a25-b68e-fad13311eb65\", \"digest\": \"44727054017b5982e21439aa900c75fe5453684110e2d0b4b748184d29975072\", \"python_path\": \"d3m.primitives.datasets.DatasetToDataFrame\", \"name\": \"Extract a DataFrame from a Dataset\", \"version\": \"0.3.0\"}}, {\"arguments\": {\"inputs\": {\"type\": \"CONTAINER\", \"data\": \"steps.1.produce\"}}, \"hyperparams\": {\"semantic_types\": {\"type\": \"VALUE\", \"data\": [\"https://metadata.datadrivendiscovery.org/types/Attribute\"]}}, \"outputs\": [{\"id\": \"produce\"}], \"timing\": {\"fit\": 1.4460182189941406, \"produce\": 0.43395256996154785}, \"type\": \"PRIMITIVE\", \"primitive\": {\"id\": \"4503a4c6-42f7-45a1-a1d4-ed69699cf5e1\", \"digest\": \"44727054017b5982e21439aa900c75fe5453684110e2d0b4b748184d29975072\", \"python_path\": \"d3m.primitives.data.ExtractColumnsBySemanticTypes\", \"name\": \"Extracts columns by semantic type\", \"version\": \"0.2.0\"}}, {\"type\": \"PRIMITIVE\", \"arguments\": {\"inputs\": {\"type\": \"CONTAINER\", \"data\": \"steps.2.produce\"}}, \"timing\": {\"fit\": 12.29658555984497, \"produce\": 5.860182285308838}, \"outputs\": [{\"id\": \"produce\"}], \"primitive\": {\"id\": \"b2612849-39e4-33ce-bfda-24f3e2cb1e93\", \"digest\": \"8337a2c4f9266d563fff0fcea7f1cab678367f484dea230edea2769f5886f0c4\", \"python_path\": \"d3m.primitives.dsbox.Profiler\", \"name\": \"DSBox Profiler\", \"version\": \"1.3.0\"}}, {\"type\": \"PRIMITIVE\", \"arguments\": {\"inputs\": {\"type\": \"CONTAINER\", \"data\": \"steps.3.produce\"}}, \"timing\": {\"fit\": 5.5255677700042725, \"produce\": 1.5828619003295898}, \"outputs\": [{\"id\": \"produce\"}], \"primitive\": {\"id\": \"dsbox-cleaning-featurizer\", \"digest\": \"8337a2c4f9266d563fff0fcea7f1cab678367f484dea230edea2769f5886f0c4\", \"python_path\": \"d3m.primitives.dsbox.CleaningFeaturizer\", \"name\": \"DSBox Cleaning Featurizer\", \"version\": \"1.3.0\"}}, {\"type\": \"PRIMITIVE\", \"arguments\": {\"inputs\": {\"type\": \"CONTAINER\", \"data\": \"steps.4.produce\"}}, \"timing\": {\"fit\": 0.08479094505310059, \"produce\": 0.0008575916290283203}, \"outputs\": [{\"id\": \"produce\"}], \"primitive\": {\"id\": \"18e63b10-c5b7-34bc-a670-f2c831d6b4bf\", \"digest\": \"35e5e1650a05365938270d42a91eac790eba247ae124ed1e1e78e1b538a2bae7\", \"python_path\": \"d3m.primitives.dsbox.CorexText\", \"name\": \"CorexText\", \"version\": \"1.0.0\"}}, {\"type\": \"PRIMITIVE\", \"arguments\": {\"inputs\": {\"type\": \"CONTAINER\", \"data\": \"steps.5.produce\"}}, \"timing\": {\"fit\": 2.56203293800354, \"produce\": 0.7392704486846924}, \"outputs\": [{\"id\": \"produce\"}], \"primitive\": {\"id\": \"18f0bb42-6350-3753-8f2d-d1c3da70f279\", \"digest\": \"8337a2c4f9266d563fff0fcea7f1cab678367f484dea230edea2769f5886f0c4\", \"python_path\": \"d3m.primitives.dsbox.Encoder\", \"name\": \"ISI DSBox Data Encoder\", \"version\": \"1.3.0\"}}, {\"type\": \"PRIMITIVE\", \"arguments\": {\"inputs\": {\"type\": \"CONTAINER\", \"data\": \"steps.6.produce\"}}, \"timing\": {\"fit\": 7.667677879333496, \"produce\": 2.863138198852539}, \"outputs\": [{\"id\": \"produce\"}], \"primitive\": {\"id\": \"7894b699-61e9-3a50-ac9f-9bc510466667\", \"digest\": \"8337a2c4f9266d563fff0fcea7f1cab678367f484dea230edea2769f5886f0c4\", \"python_path\": \"d3m.primitives.dsbox.MeanImputation\", \"name\": \"DSBox Mean Imputer\", \"version\": \"1.3.0\"}}, {\"type\": \"PRIMITIVE\", \"arguments\": {\"inputs\": {\"type\": \"CONTAINER\", \"data\": \"steps.7.produce\"}}, \"timing\": {\"fit\": 0.10308432579040527, \"produce\": 0.0010313987731933594}, \"outputs\": [{\"id\": \"produce\"}], \"primitive\": {\"id\": \"dsbox-featurizer-do-nothing\", \"digest\": \"9a303e6185bd4e479ee895be664bd10c50870fbee936744d773e381765182b83\", \"python_path\": \"d3m.primitives.dsbox.DoNothing\", \"name\": \"DSBox Image Featurizer do-nothing primitive\", \"version\": \"0.2.0\"}}, {\"arguments\": {\"inputs\": {\"type\": \"CONTAINER\", \"data\": \"steps.8.produce\"}}, \"hyperparams\": {\"type_to_cast\": {\"type\": \"VALUE\", \"data\": \"float\"}}, \"outputs\": [{\"id\": \"produce\"}], \"timing\": {\"fit\": 0.8688099384307861, \"produce\": 0.7692909240722656}, \"type\": \"PRIMITIVE\", \"primitive\": {\"id\": \"eb5fe752-f22a-4090-948b-aafcef203bf5\", \"digest\": \"44727054017b5982e21439aa900c75fe5453684110e2d0b4b748184d29975072\", \"python_path\": \"d3m.primitives.data.CastToType\", \"name\": \"Casts DataFrame\", \"version\": \"0.2.0\"}}, {\"arguments\": {\"inputs\": {\"type\": \"CONTAINER\", \"data\": \"steps.9.produce\"}}, \"hyperparams\": {\"n_components\": {\"type\": \"VALUE\", \"data\": 10}}, \"outputs\": [{\"id\": \"produce\"}], \"timing\": {\"fit\": 0.1671137809753418, \"produce\": 0.010863780975341797}, \"type\": \"PRIMITIVE\", \"primitive\": {\"id\": \"2fb28cd1-5de6-3663-a2dc-09c786fba7f4\", \"digest\": \"d094bb2dffc1e6276dd3fd7ab48672c4eb369ce4afb295b1ff826a66a73496e2\", \"python_path\": \"d3m.primitives.sklearn_wrap.SKPCA\", \"name\": \"sklearn.decomposition.pca.PCA\", \"version\": \"2018.7.11\"}}, {\"arguments\": {\"inputs\": {\"type\": \"CONTAINER\", \"data\": \"steps.1.produce\"}}, \"hyperparams\": {\"semantic_types\": {\"type\": \"VALUE\", \"data\": [\"https://metadata.datadrivendiscovery.org/types/TrueTarget\"]}}, \"outputs\": [{\"id\": \"produce\"}], \"timing\": {\"fit\": 1.4460182189941406, \"produce\": 0.43395256996154785}, \"type\": \"PRIMITIVE\", \"primitive\": {\"id\": \"4503a4c6-42f7-45a1-a1d4-ed69699cf5e1\", \"digest\": \"44727054017b5982e21439aa900c75fe5453684110e2d0b4b748184d29975072\", \"python_path\": \"d3m.primitives.data.ExtractColumnsBySemanticTypes\", \"name\": \"Extracts columns by semantic type\", \"version\": \"0.2.0\"}}, {\"arguments\": {\"outputs\": {\"type\": \"CONTAINER\", \"data\": \"steps.11.produce\"}, \"inputs\": {\"type\": \"CONTAINER\", \"data\": \"steps.10.produce\"}}, \"hyperparams\": {\"alpha\": {\"type\": \"VALUE\", \"data\": 0}}, \"outputs\": [{\"id\": \"produce\"}], \"timing\": {\"fit\": 0.3253617286682129, \"produce\": 0.005174398422241211}, \"type\": \"PRIMITIVE\", \"primitive\": {\"id\": \"dfb1004e-02ac-3399-ba57-8a95639312cd\", \"digest\": \"d094bb2dffc1e6276dd3fd7ab48672c4eb369ce4afb295b1ff826a66a73496e2\", \"python_path\": \"d3m.primitives.sklearn_wrap.SKBernoulliNB\", \"name\": \"sklearn.naive_bayes.BernoulliNB\", \"version\": \"2018.7.11\"}}], \"metric_value\": 0.6007120361495276, \"problem_taskType\": \"classification\", \"pipeline_rank\": 1.6646911328926373}\n",
      "{\"template_name\": \"default_classification_template\", \"problem_taskSubType\": \"binary\", \"total_time_used_without_cache\": 84.12240195274353, \"problem\": \"LL0_1479_hill_valley\", \"parent_id\": \"074d5b13-d060-4b96-88c6-87b3788067c8\", \"context\": \"PRETRAINING\", \"inputs\": [{\"name\": \"input dataset\"}], \"total_time_used_with_cache\": 44.42383575439453, \"dataset\": \"ll0\", \"dataset_id\": \"LL0_1479_hill_valley_dataset_fd2d0189-dfd9-45d4-84db-a82f201a82c4\", \"schema\": \"https://metadata.datadrivendiscovery.org/schemas/v0/pipeline.json\", \"name\": \"dsbox_140349932602352\", \"outputs\": [{\"name\": \"predictions of input dataset\", \"data\": \"steps.12.produce\"}], \"created\": \"2018-08-10T10:24:37.280322Z\", \"id\": \"87e27225-2d23-4d83-8403-d5f443d1d2ae\", \"baseline\": 0.8666666666666667, \"beat_baseline\": false, \"metric\": \"f1Macro\", \"template\": {\"name\": \"default_classification_template\", \"target\": \"extract_target_step\", \"taskSubtype\": [\"BINARY\", \"MULTICLASS\"], \"taskType\": [\"CLASSIFICATION\"], \"steps\": [{\"name\": \"denormalize_step\", \"primitives\": [\"d3m.primitives.dsbox.Denormalize\"], \"inputs\": [\"template_input\"]}, {\"name\": \"to_dataframe_step\", \"primitives\": [\"d3m.primitives.datasets.DatasetToDataFrame\"], \"inputs\": [\"denormalize_step\"]}, {\"name\": \"extract_attribute_step\", \"primitives\": [\"d3m.primitives.data.ExtractColumnsBySemanticTypes\"], \"inputs\": [\"to_dataframe_step\"]}, {\"name\": \"profiler_step\", \"primitives\": [\"d3m.primitives.dsbox.Profiler\"], \"inputs\": [\"extract_attribute_step\"]}, {\"name\": \"clean_step\", \"primitives\": [\"d3m.primitives.dsbox.CleaningFeaturizer\", \"d3m.primitives.dsbox.DoNothing\"], \"inputs\": [\"profiler_step\"]}, {\"name\": \"corex_step\", \"primitives\": [\"d3m.primitives.dsbox.CorexText\"], \"inputs\": [\"clean_step\"]}, {\"name\": \"encoder_step\", \"primitives\": [\"d3m.primitives.dsbox.Encoder\", \"d3m.primitives.dsbox.DoNothing\"], \"inputs\": [\"corex_step\"]}, {\"name\": \"impute_step\", \"primitives\": [\"d3m.primitives.dsbox.MeanImputation\"], \"inputs\": [\"encoder_step\"]}, {\"name\": \"scaler_step\", \"primitives\": [\"d3m.primitives.sklearn_wrap.SKMaxAbsScaler\", \"d3m.primitives.dsbox.IQRScaler\", \"d3m.primitives.dsbox.DoNothing\"], \"inputs\": [\"impute_step\"]}, {\"name\": \"cast_1_step\", \"primitives\": [\"d3m.primitives.data.CastToType\", \"d3m.primitives.dsbox.DoNothing\"], \"inputs\": [\"scaler_step\"]}, {\"name\": \"data\", \"primitives\": [\"d3m.primitives.sklearn_wrap.SKPCA\", \"d3m.primitives.dsbox.DoNothing\"], \"inputs\": [\"cast_1_step\"]}, {\"name\": \"target\", \"primitives\": [\"d3m.primitives.data.ExtractColumnsBySemanticTypes\"], \"inputs\": [\"to_dataframe_step\"]}, {\"name\": \"model_step\", \"runtime\": {\"stratified\": true, \"cross_validation\": 10}, \"primitives\": [\"d3m.primitives.sklearn_wrap.SKRandomForestClassifier\", \"d3m.primitives.sklearn_wrap.SKExtraTreesClassifier\", \"d3m.primitives.sklearn_wrap.SKGradientBoostingClassifier\"], \"inputs\": [\"data\", \"target\"]}], \"output\": \"model_step\", \"inputType\": \"table\"}, \"description\": \"\", \"steps\": [{\"type\": \"PRIMITIVE\", \"arguments\": {\"inputs\": {\"type\": \"CONTAINER\", \"data\": \"inputs.0\"}}, \"timing\": {\"fit\": 0.0042111873626708984, \"produce\": 0.0017631053924560547}, \"outputs\": [{\"id\": \"produce\"}], \"primitive\": {\"id\": \"dsbox-denormalize(from d3m)\", \"digest\": \"8337a2c4f9266d563fff0fcea7f1cab678367f484dea230edea2769f5886f0c4\", \"python_path\": \"d3m.primitives.dsbox.Denormalize\", \"name\": \"DSBox denormalize\", \"version\": \"1.3.0\"}}, {\"type\": \"PRIMITIVE\", \"arguments\": {\"inputs\": {\"type\": \"CONTAINER\", \"data\": \"steps.0.produce\"}}, \"timing\": {\"fit\": 0.07030224800109863, \"produce\": 0.3088417053222656}, \"outputs\": [{\"id\": \"produce\"}], \"primitive\": {\"id\": \"4b42ce1e-9b98-4a25-b68e-fad13311eb65\", \"digest\": \"44727054017b5982e21439aa900c75fe5453684110e2d0b4b748184d29975072\", \"python_path\": \"d3m.primitives.datasets.DatasetToDataFrame\", \"name\": \"Extract a DataFrame from a Dataset\", \"version\": \"0.3.0\"}}, {\"arguments\": {\"inputs\": {\"type\": \"CONTAINER\", \"data\": \"steps.1.produce\"}}, \"hyperparams\": {\"semantic_types\": {\"type\": \"VALUE\", \"data\": [\"https://metadata.datadrivendiscovery.org/types/Attribute\"]}}, \"outputs\": [{\"id\": \"produce\"}], \"timing\": {\"fit\": 1.4460182189941406, \"produce\": 1.2343015670776367}, \"type\": \"PRIMITIVE\", \"primitive\": {\"id\": \"4503a4c6-42f7-45a1-a1d4-ed69699cf5e1\", \"digest\": \"44727054017b5982e21439aa900c75fe5453684110e2d0b4b748184d29975072\", \"python_path\": \"d3m.primitives.data.ExtractColumnsBySemanticTypes\", \"name\": \"Extracts columns by semantic type\", \"version\": \"0.2.0\"}}, {\"type\": \"PRIMITIVE\", \"arguments\": {\"inputs\": {\"type\": \"CONTAINER\", \"data\": \"steps.2.produce\"}}, \"timing\": {\"fit\": 12.29658555984497, \"produce\": 13.259199619293213}, \"outputs\": [{\"id\": \"produce\"}], \"primitive\": {\"id\": \"b2612849-39e4-33ce-bfda-24f3e2cb1e93\", \"digest\": \"8337a2c4f9266d563fff0fcea7f1cab678367f484dea230edea2769f5886f0c4\", \"python_path\": \"d3m.primitives.dsbox.Profiler\", \"name\": \"DSBox Profiler\", \"version\": \"1.3.0\"}}, {\"type\": \"PRIMITIVE\", \"arguments\": {\"inputs\": {\"type\": \"CONTAINER\", \"data\": \"steps.3.produce\"}}, \"timing\": {\"fit\": 5.5255677700042725, \"produce\": 4.243052244186401}, \"outputs\": [{\"id\": \"produce\"}], \"primitive\": {\"id\": \"dsbox-cleaning-featurizer\", \"digest\": \"8337a2c4f9266d563fff0fcea7f1cab678367f484dea230edea2769f5886f0c4\", \"python_path\": \"d3m.primitives.dsbox.CleaningFeaturizer\", \"name\": \"DSBox Cleaning Featurizer\", \"version\": \"1.3.0\"}}, {\"type\": \"PRIMITIVE\", \"arguments\": {\"inputs\": {\"type\": \"CONTAINER\", \"data\": \"steps.4.produce\"}}, \"timing\": {\"fit\": 0.08479094505310059, \"produce\": 0.0017943382263183594}, \"outputs\": [{\"id\": \"produce\"}], \"primitive\": {\"id\": \"18e63b10-c5b7-34bc-a670-f2c831d6b4bf\", \"digest\": \"35e5e1650a05365938270d42a91eac790eba247ae124ed1e1e78e1b538a2bae7\", \"python_path\": \"d3m.primitives.dsbox.CorexText\", \"name\": \"CorexText\", \"version\": \"1.0.0\"}}, {\"type\": \"PRIMITIVE\", \"arguments\": {\"inputs\": {\"type\": \"CONTAINER\", \"data\": \"steps.5.produce\"}}, \"timing\": {\"fit\": 2.56203293800354, \"produce\": 2.3108832836151123}, \"outputs\": [{\"id\": \"produce\"}], \"primitive\": {\"id\": \"18f0bb42-6350-3753-8f2d-d1c3da70f279\", \"digest\": \"8337a2c4f9266d563fff0fcea7f1cab678367f484dea230edea2769f5886f0c4\", \"python_path\": \"d3m.primitives.dsbox.Encoder\", \"name\": \"ISI DSBox Data Encoder\", \"version\": \"1.3.0\"}}, {\"type\": \"PRIMITIVE\", \"arguments\": {\"inputs\": {\"type\": \"CONTAINER\", \"data\": \"steps.6.produce\"}}, \"timing\": {\"fit\": 7.667677879333496, \"produce\": 8.891950368881226}, \"outputs\": [{\"id\": \"produce\"}], \"primitive\": {\"id\": \"7894b699-61e9-3a50-ac9f-9bc510466667\", \"digest\": \"8337a2c4f9266d563fff0fcea7f1cab678367f484dea230edea2769f5886f0c4\", \"python_path\": \"d3m.primitives.dsbox.MeanImputation\", \"name\": \"DSBox Mean Imputer\", \"version\": \"1.3.0\"}}, {\"type\": \"PRIMITIVE\", \"arguments\": {\"inputs\": {\"type\": \"CONTAINER\", \"data\": \"steps.7.produce\"}}, \"timing\": {\"fit\": 0.07340216636657715, \"produce\": 0.021277904510498047}, \"outputs\": [{\"id\": \"produce\"}], \"primitive\": {\"id\": \"64d2ef5d-b221-3033-8342-76d0293fa99c\", \"digest\": \"d094bb2dffc1e6276dd3fd7ab48672c4eb369ce4afb295b1ff826a66a73496e2\", \"python_path\": \"d3m.primitives.sklearn_wrap.SKMaxAbsScaler\", \"name\": \"sklearn.preprocessing.data.MaxAbsScaler\", \"version\": \"2018.7.11\"}}, {\"arguments\": {\"inputs\": {\"type\": \"CONTAINER\", \"data\": \"steps.8.produce\"}}, \"hyperparams\": {\"type_to_cast\": {\"type\": \"VALUE\", \"data\": \"float\"}}, \"outputs\": [{\"id\": \"produce\"}], \"timing\": {\"fit\": 0.1273951530456543, \"produce\": 0.11315035820007324}, \"type\": \"PRIMITIVE\", \"primitive\": {\"id\": \"eb5fe752-f22a-4090-948b-aafcef203bf5\", \"digest\": \"44727054017b5982e21439aa900c75fe5453684110e2d0b4b748184d29975072\", \"python_path\": \"d3m.primitives.data.CastToType\", \"name\": \"Casts DataFrame\", \"version\": \"0.2.0\"}}, {\"arguments\": {\"inputs\": {\"type\": \"CONTAINER\", \"data\": \"steps.9.produce\"}}, \"hyperparams\": {\"n_components\": {\"type\": \"VALUE\", \"data\": 10}}, \"outputs\": [{\"id\": \"produce\"}], \"timing\": {\"fit\": 0.15425992012023926, \"produce\": 0.022832870483398438}, \"type\": \"PRIMITIVE\", \"primitive\": {\"id\": \"2fb28cd1-5de6-3663-a2dc-09c786fba7f4\", \"digest\": \"d094bb2dffc1e6276dd3fd7ab48672c4eb369ce4afb295b1ff826a66a73496e2\", \"python_path\": \"d3m.primitives.sklearn_wrap.SKPCA\", \"name\": \"sklearn.decomposition.pca.PCA\", \"version\": \"2018.7.11\"}}, {\"arguments\": {\"inputs\": {\"type\": \"CONTAINER\", \"data\": \"steps.1.produce\"}}, \"hyperparams\": {\"semantic_types\": {\"type\": \"VALUE\", \"data\": [\"https://metadata.datadrivendiscovery.org/types/TrueTarget\"]}}, \"outputs\": [{\"id\": \"produce\"}], \"timing\": {\"fit\": 1.4460182189941406, \"produce\": 1.2343015670776367}, \"type\": \"PRIMITIVE\", \"primitive\": {\"id\": \"4503a4c6-42f7-45a1-a1d4-ed69699cf5e1\", \"digest\": \"44727054017b5982e21439aa900c75fe5453684110e2d0b4b748184d29975072\", \"python_path\": \"d3m.primitives.data.ExtractColumnsBySemanticTypes\", \"name\": \"Extracts columns by semantic type\", \"version\": \"0.2.0\"}}, {\"arguments\": {\"outputs\": {\"type\": \"CONTAINER\", \"data\": \"steps.11.produce\"}, \"inputs\": {\"type\": \"CONTAINER\", \"data\": \"steps.10.produce\"}}, \"hyperparams\": {\"bootstrap\": {\"type\": \"VALUE\", \"data\": true}, \"min_samples_split\": {\"type\": \"VALUE\", \"data\": 2}, \"n_estimators\": {\"type\": \"VALUE\", \"data\": 10}, \"max_depth\": {\"type\": \"VALUE\", \"data\": null}, \"min_samples_leaf\": {\"type\": \"VALUE\", \"data\": 2}, \"max_features\": {\"type\": \"VALUE\", \"data\": \"sqrt\"}}, \"outputs\": [{\"id\": \"produce\"}], \"timing\": {\"fit\": 2.058610200881958, \"produce\": 0.012441396713256836}, \"type\": \"PRIMITIVE\", \"primitive\": {\"id\": \"c8a28f02-ef4a-35a8-87f1-cf79980f5c3e\", \"digest\": \"d094bb2dffc1e6276dd3fd7ab48672c4eb369ce4afb295b1ff826a66a73496e2\", \"python_path\": \"d3m.primitives.sklearn_wrap.SKExtraTreesClassifier\", \"name\": \"sklearn.ensemble.forest.ExtraTreesClassifier\", \"version\": \"2018.7.11\"}}], \"metric_value\": 0.5713957055214723, \"problem_taskType\": \"classification\", \"pipeline_rank\": 1.7501006576298486}\n",
      "{\"template_name\": \"default_classification_template\", \"problem_taskSubType\": \"binary\", \"total_time_used_without_cache\": 78.62641263008118, \"problem\": \"LL0_1479_hill_valley\", \"parent_id\": \"83fbc2e8-98f1-45a5-a86a-145dd5759bdb\", \"context\": \"PRETRAINING\", \"inputs\": [{\"name\": \"input dataset\"}], \"total_time_used_with_cache\": 35.35960841178894, \"dataset\": \"ll0\", \"dataset_id\": \"LL0_1479_hill_valley_dataset_fd2d0189-dfd9-45d4-84db-a82f201a82c4\", \"schema\": \"https://metadata.datadrivendiscovery.org/schemas/v0/pipeline.json\", \"name\": \"dsbox_140345885298976\", \"outputs\": [{\"name\": \"predictions of input dataset\", \"data\": \"steps.12.produce\"}], \"created\": \"2018-08-10T10:22:54.738106Z\", \"id\": \"6cf29ca2-c6a1-422c-b118-e3628e405639\", \"baseline\": 0.8666666666666667, \"beat_baseline\": false, \"metric\": \"f1Macro\", \"template\": {\"name\": \"default_classification_template\", \"target\": \"extract_target_step\", \"taskSubtype\": [\"BINARY\", \"MULTICLASS\"], \"taskType\": [\"CLASSIFICATION\"], \"steps\": [{\"name\": \"denormalize_step\", \"primitives\": [\"d3m.primitives.dsbox.Denormalize\"], \"inputs\": [\"template_input\"]}, {\"name\": \"to_dataframe_step\", \"primitives\": [\"d3m.primitives.datasets.DatasetToDataFrame\"], \"inputs\": [\"denormalize_step\"]}, {\"name\": \"extract_attribute_step\", \"primitives\": [\"d3m.primitives.data.ExtractColumnsBySemanticTypes\"], \"inputs\": [\"to_dataframe_step\"]}, {\"name\": \"profiler_step\", \"primitives\": [\"d3m.primitives.dsbox.Profiler\"], \"inputs\": [\"extract_attribute_step\"]}, {\"name\": \"clean_step\", \"primitives\": [\"d3m.primitives.dsbox.CleaningFeaturizer\", \"d3m.primitives.dsbox.DoNothing\"], \"inputs\": [\"profiler_step\"]}, {\"name\": \"corex_step\", \"primitives\": [\"d3m.primitives.dsbox.CorexText\"], \"inputs\": [\"clean_step\"]}, {\"name\": \"encoder_step\", \"primitives\": [\"d3m.primitives.dsbox.Encoder\", \"d3m.primitives.dsbox.DoNothing\"], \"inputs\": [\"corex_step\"]}, {\"name\": \"impute_step\", \"primitives\": [\"d3m.primitives.dsbox.MeanImputation\"], \"inputs\": [\"encoder_step\"]}, {\"name\": \"scaler_step\", \"primitives\": [\"d3m.primitives.sklearn_wrap.SKMaxAbsScaler\", \"d3m.primitives.dsbox.IQRScaler\", \"d3m.primitives.dsbox.DoNothing\"], \"inputs\": [\"impute_step\"]}, {\"name\": \"cast_1_step\", \"primitives\": [\"d3m.primitives.data.CastToType\", \"d3m.primitives.dsbox.DoNothing\"], \"inputs\": [\"scaler_step\"]}, {\"name\": \"data\", \"primitives\": [\"d3m.primitives.sklearn_wrap.SKPCA\", \"d3m.primitives.dsbox.DoNothing\"], \"inputs\": [\"cast_1_step\"]}, {\"name\": \"target\", \"primitives\": [\"d3m.primitives.data.ExtractColumnsBySemanticTypes\"], \"inputs\": [\"to_dataframe_step\"]}, {\"name\": \"model_step\", \"runtime\": {\"stratified\": true, \"cross_validation\": 10}, \"primitives\": [\"d3m.primitives.sklearn_wrap.SKRandomForestClassifier\", \"d3m.primitives.sklearn_wrap.SKExtraTreesClassifier\", \"d3m.primitives.sklearn_wrap.SKGradientBoostingClassifier\"], \"inputs\": [\"data\", \"target\"]}], \"output\": \"model_step\", \"inputType\": \"table\"}, \"description\": \"\", \"steps\": [{\"type\": \"PRIMITIVE\", \"arguments\": {\"inputs\": {\"type\": \"CONTAINER\", \"data\": \"inputs.0\"}}, \"timing\": {\"fit\": 0.0042111873626708984, \"produce\": 0.0015377998352050781}, \"outputs\": [{\"id\": \"produce\"}], \"primitive\": {\"id\": \"dsbox-denormalize(from d3m)\", \"digest\": \"8337a2c4f9266d563fff0fcea7f1cab678367f484dea230edea2769f5886f0c4\", \"python_path\": \"d3m.primitives.dsbox.Denormalize\", \"name\": \"DSBox denormalize\", \"version\": \"1.3.0\"}}, {\"type\": \"PRIMITIVE\", \"arguments\": {\"inputs\": {\"type\": \"CONTAINER\", \"data\": \"steps.0.produce\"}}, \"timing\": {\"fit\": 0.07030224800109863, \"produce\": 0.1333601474761963}, \"outputs\": [{\"id\": \"produce\"}], \"primitive\": {\"id\": \"4b42ce1e-9b98-4a25-b68e-fad13311eb65\", \"digest\": \"44727054017b5982e21439aa900c75fe5453684110e2d0b4b748184d29975072\", \"python_path\": \"d3m.primitives.datasets.DatasetToDataFrame\", \"name\": \"Extract a DataFrame from a Dataset\", \"version\": \"0.3.0\"}}, {\"arguments\": {\"inputs\": {\"type\": \"CONTAINER\", \"data\": \"steps.1.produce\"}}, \"hyperparams\": {\"semantic_types\": {\"type\": \"VALUE\", \"data\": [\"https://metadata.datadrivendiscovery.org/types/Attribute\"]}}, \"outputs\": [{\"id\": \"produce\"}], \"timing\": {\"fit\": 1.4460182189941406, \"produce\": 0.8815126419067383}, \"type\": \"PRIMITIVE\", \"primitive\": {\"id\": \"4503a4c6-42f7-45a1-a1d4-ed69699cf5e1\", \"digest\": \"44727054017b5982e21439aa900c75fe5453684110e2d0b4b748184d29975072\", \"python_path\": \"d3m.primitives.data.ExtractColumnsBySemanticTypes\", \"name\": \"Extracts columns by semantic type\", \"version\": \"0.2.0\"}}, {\"type\": \"PRIMITIVE\", \"arguments\": {\"inputs\": {\"type\": \"CONTAINER\", \"data\": \"steps.2.produce\"}}, \"timing\": {\"fit\": 12.29658555984497, \"produce\": 10.689799308776855}, \"outputs\": [{\"id\": \"produce\"}], \"primitive\": {\"id\": \"b2612849-39e4-33ce-bfda-24f3e2cb1e93\", \"digest\": \"8337a2c4f9266d563fff0fcea7f1cab678367f484dea230edea2769f5886f0c4\", \"python_path\": \"d3m.primitives.dsbox.Profiler\", \"name\": \"DSBox Profiler\", \"version\": \"1.3.0\"}}, {\"type\": \"PRIMITIVE\", \"arguments\": {\"inputs\": {\"type\": \"CONTAINER\", \"data\": \"steps.3.produce\"}}, \"timing\": {\"fit\": 5.5255677700042725, \"produce\": 2.8389041423797607}, \"outputs\": [{\"id\": \"produce\"}], \"primitive\": {\"id\": \"dsbox-cleaning-featurizer\", \"digest\": \"8337a2c4f9266d563fff0fcea7f1cab678367f484dea230edea2769f5886f0c4\", \"python_path\": \"d3m.primitives.dsbox.CleaningFeaturizer\", \"name\": \"DSBox Cleaning Featurizer\", \"version\": \"1.3.0\"}}, {\"type\": \"PRIMITIVE\", \"arguments\": {\"inputs\": {\"type\": \"CONTAINER\", \"data\": \"steps.4.produce\"}}, \"timing\": {\"fit\": 0.08479094505310059, \"produce\": 0.0016241073608398438}, \"outputs\": [{\"id\": \"produce\"}], \"primitive\": {\"id\": \"18e63b10-c5b7-34bc-a670-f2c831d6b4bf\", \"digest\": \"35e5e1650a05365938270d42a91eac790eba247ae124ed1e1e78e1b538a2bae7\", \"python_path\": \"d3m.primitives.dsbox.CorexText\", \"name\": \"CorexText\", \"version\": \"1.0.0\"}}, {\"type\": \"PRIMITIVE\", \"arguments\": {\"inputs\": {\"type\": \"CONTAINER\", \"data\": \"steps.5.produce\"}}, \"timing\": {\"fit\": 2.56203293800354, \"produce\": 1.562964677810669}, \"outputs\": [{\"id\": \"produce\"}], \"primitive\": {\"id\": \"18f0bb42-6350-3753-8f2d-d1c3da70f279\", \"digest\": \"8337a2c4f9266d563fff0fcea7f1cab678367f484dea230edea2769f5886f0c4\", \"python_path\": \"d3m.primitives.dsbox.Encoder\", \"name\": \"ISI DSBox Data Encoder\", \"version\": \"1.3.0\"}}, {\"type\": \"PRIMITIVE\", \"arguments\": {\"inputs\": {\"type\": \"CONTAINER\", \"data\": \"steps.6.produce\"}}, \"timing\": {\"fit\": 7.667677879333496, \"produce\": 5.253901243209839}, \"outputs\": [{\"id\": \"produce\"}], \"primitive\": {\"id\": \"7894b699-61e9-3a50-ac9f-9bc510466667\", \"digest\": \"8337a2c4f9266d563fff0fcea7f1cab678367f484dea230edea2769f5886f0c4\", \"python_path\": \"d3m.primitives.dsbox.MeanImputation\", \"name\": \"DSBox Mean Imputer\", \"version\": \"1.3.0\"}}, {\"type\": \"PRIMITIVE\", \"arguments\": {\"inputs\": {\"type\": \"CONTAINER\", \"data\": \"steps.7.produce\"}}, \"timing\": {\"fit\": 0.07340216636657715, \"produce\": 0.019510746002197266}, \"outputs\": [{\"id\": \"produce\"}], \"primitive\": {\"id\": \"64d2ef5d-b221-3033-8342-76d0293fa99c\", \"digest\": \"d094bb2dffc1e6276dd3fd7ab48672c4eb369ce4afb295b1ff826a66a73496e2\", \"python_path\": \"d3m.primitives.sklearn_wrap.SKMaxAbsScaler\", \"name\": \"sklearn.preprocessing.data.MaxAbsScaler\", \"version\": \"2018.7.11\"}}, {\"arguments\": {\"inputs\": {\"type\": \"CONTAINER\", \"data\": \"steps.8.produce\"}}, \"hyperparams\": {\"type_to_cast\": {\"type\": \"VALUE\", \"data\": \"float\"}}, \"outputs\": [{\"id\": \"produce\"}], \"timing\": {\"fit\": 0.1273951530456543, \"produce\": 0.09220767021179199}, \"type\": \"PRIMITIVE\", \"primitive\": {\"id\": \"eb5fe752-f22a-4090-948b-aafcef203bf5\", \"digest\": \"44727054017b5982e21439aa900c75fe5453684110e2d0b4b748184d29975072\", \"python_path\": \"d3m.primitives.data.CastToType\", \"name\": \"Casts DataFrame\", \"version\": \"0.2.0\"}}, {\"arguments\": {\"inputs\": {\"type\": \"CONTAINER\", \"data\": \"steps.9.produce\"}}, \"hyperparams\": {\"n_components\": {\"type\": \"VALUE\", \"data\": 10}}, \"outputs\": [{\"id\": \"produce\"}], \"timing\": {\"fit\": 0.15425992012023926, \"produce\": 0.012929201126098633}, \"type\": \"PRIMITIVE\", \"primitive\": {\"id\": \"2fb28cd1-5de6-3663-a2dc-09c786fba7f4\", \"digest\": \"d094bb2dffc1e6276dd3fd7ab48672c4eb369ce4afb295b1ff826a66a73496e2\", \"python_path\": \"d3m.primitives.sklearn_wrap.SKPCA\", \"name\": \"sklearn.decomposition.pca.PCA\", \"version\": \"2018.7.11\"}}, {\"arguments\": {\"inputs\": {\"type\": \"CONTAINER\", \"data\": \"steps.1.produce\"}}, \"hyperparams\": {\"semantic_types\": {\"type\": \"VALUE\", \"data\": [\"https://metadata.datadrivendiscovery.org/types/TrueTarget\"]}}, \"outputs\": [{\"id\": \"produce\"}], \"timing\": {\"fit\": 1.4460182189941406, \"produce\": 0.8815126419067383}, \"type\": \"PRIMITIVE\", \"primitive\": {\"id\": \"4503a4c6-42f7-45a1-a1d4-ed69699cf5e1\", \"digest\": \"44727054017b5982e21439aa900c75fe5453684110e2d0b4b748184d29975072\", \"python_path\": \"d3m.primitives.data.ExtractColumnsBySemanticTypes\", \"name\": \"Extracts columns by semantic type\", \"version\": \"0.2.0\"}}, {\"arguments\": {\"outputs\": {\"type\": \"CONTAINER\", \"data\": \"steps.11.produce\"}, \"inputs\": {\"type\": \"CONTAINER\", \"data\": \"steps.10.produce\"}}, \"hyperparams\": {\"bootstrap\": {\"type\": \"VALUE\", \"data\": false}, \"min_samples_split\": {\"type\": \"VALUE\", \"data\": 5}, \"n_estimators\": {\"type\": \"VALUE\", \"data\": 100}, \"max_depth\": {\"type\": \"VALUE\", \"data\": 15}, \"min_samples_leaf\": {\"type\": \"VALUE\", \"data\": 1}, \"max_features\": {\"type\": \"VALUE\", \"data\": \"sqrt\"}}, \"outputs\": [{\"id\": \"produce\"}], \"timing\": {\"fit\": 2.9942030906677246, \"produce\": 0.015556097030639648}, \"type\": \"PRIMITIVE\", \"primitive\": {\"id\": \"c8a28f02-ef4a-35a8-87f1-cf79980f5c3e\", \"digest\": \"d094bb2dffc1e6276dd3fd7ab48672c4eb369ce4afb295b1ff826a66a73496e2\", \"python_path\": \"d3m.primitives.sklearn_wrap.SKExtraTreesClassifier\", \"name\": \"sklearn.ensemble.forest.ExtraTreesClassifier\", \"version\": \"2018.7.11\"}}], \"metric_value\": 0.6054988216810684, \"problem_taskType\": \"classification\", \"pipeline_rank\": 1.6515308770108976}\n",
      "{\"template_name\": \"default_classification_template\", \"problem_taskSubType\": \"binary\", \"total_time_used_without_cache\": 78.63152575492859, \"problem\": \"LL0_1479_hill_valley\", \"parent_id\": \"6a8fb317-2375-478f-92e3-81aef4b42007\", \"context\": \"PRETRAINING\", \"inputs\": [{\"name\": \"input dataset\"}], \"total_time_used_with_cache\": 37.61931490898132, \"dataset\": \"ll0\", \"dataset_id\": \"LL0_1479_hill_valley_dataset_fd2d0189-dfd9-45d4-84db-a82f201a82c4\", \"schema\": \"https://metadata.datadrivendiscovery.org/schemas/v0/pipeline.json\", \"name\": \"dsbox_140350353488632\", \"outputs\": [{\"name\": \"predictions of input dataset\", \"data\": \"steps.12.produce\"}], \"created\": \"2018-08-10T10:28:04.615180Z\", \"id\": \"1fa4ce68-d283-4fab-86de-9f6c7cd039de\", \"baseline\": 0.8666666666666667, \"beat_baseline\": false, \"metric\": \"f1Macro\", \"template\": {\"name\": \"default_classification_template\", \"target\": \"extract_target_step\", \"taskSubtype\": [\"BINARY\", \"MULTICLASS\"], \"taskType\": [\"CLASSIFICATION\"], \"steps\": [{\"name\": \"denormalize_step\", \"primitives\": [\"d3m.primitives.dsbox.Denormalize\"], \"inputs\": [\"template_input\"]}, {\"name\": \"to_dataframe_step\", \"primitives\": [\"d3m.primitives.datasets.DatasetToDataFrame\"], \"inputs\": [\"denormalize_step\"]}, {\"name\": \"extract_attribute_step\", \"primitives\": [\"d3m.primitives.data.ExtractColumnsBySemanticTypes\"], \"inputs\": [\"to_dataframe_step\"]}, {\"name\": \"profiler_step\", \"primitives\": [\"d3m.primitives.dsbox.Profiler\"], \"inputs\": [\"extract_attribute_step\"]}, {\"name\": \"clean_step\", \"primitives\": [\"d3m.primitives.dsbox.CleaningFeaturizer\", \"d3m.primitives.dsbox.DoNothing\"], \"inputs\": [\"profiler_step\"]}, {\"name\": \"corex_step\", \"primitives\": [\"d3m.primitives.dsbox.CorexText\"], \"inputs\": [\"clean_step\"]}, {\"name\": \"encoder_step\", \"primitives\": [\"d3m.primitives.dsbox.Encoder\", \"d3m.primitives.dsbox.DoNothing\"], \"inputs\": [\"corex_step\"]}, {\"name\": \"impute_step\", \"primitives\": [\"d3m.primitives.dsbox.MeanImputation\"], \"inputs\": [\"encoder_step\"]}, {\"name\": \"scaler_step\", \"primitives\": [\"d3m.primitives.sklearn_wrap.SKMaxAbsScaler\", \"d3m.primitives.dsbox.IQRScaler\", \"d3m.primitives.dsbox.DoNothing\"], \"inputs\": [\"impute_step\"]}, {\"name\": \"cast_1_step\", \"primitives\": [\"d3m.primitives.data.CastToType\", \"d3m.primitives.dsbox.DoNothing\"], \"inputs\": [\"scaler_step\"]}, {\"name\": \"data\", \"primitives\": [\"d3m.primitives.sklearn_wrap.SKPCA\", \"d3m.primitives.dsbox.DoNothing\"], \"inputs\": [\"cast_1_step\"]}, {\"name\": \"target\", \"primitives\": [\"d3m.primitives.data.ExtractColumnsBySemanticTypes\"], \"inputs\": [\"to_dataframe_step\"]}, {\"name\": \"model_step\", \"runtime\": {\"stratified\": true, \"cross_validation\": 10}, \"primitives\": [\"d3m.primitives.sklearn_wrap.SKRandomForestClassifier\", \"d3m.primitives.sklearn_wrap.SKExtraTreesClassifier\", \"d3m.primitives.sklearn_wrap.SKGradientBoostingClassifier\"], \"inputs\": [\"data\", \"target\"]}], \"output\": \"model_step\", \"inputType\": \"table\"}, \"description\": \"\", \"steps\": [{\"type\": \"PRIMITIVE\", \"arguments\": {\"inputs\": {\"type\": \"CONTAINER\", \"data\": \"inputs.0\"}}, \"timing\": {\"fit\": 0.0042111873626708984, \"produce\": 0.0015344619750976562}, \"outputs\": [{\"id\": \"produce\"}], \"primitive\": {\"id\": \"dsbox-denormalize(from d3m)\", \"digest\": \"8337a2c4f9266d563fff0fcea7f1cab678367f484dea230edea2769f5886f0c4\", \"python_path\": \"d3m.primitives.dsbox.Denormalize\", \"name\": \"DSBox denormalize\", \"version\": \"1.3.0\"}}, {\"type\": \"PRIMITIVE\", \"arguments\": {\"inputs\": {\"type\": \"CONTAINER\", \"data\": \"steps.0.produce\"}}, \"timing\": {\"fit\": 0.07030224800109863, \"produce\": 0.13071179389953613}, \"outputs\": [{\"id\": \"produce\"}], \"primitive\": {\"id\": \"4b42ce1e-9b98-4a25-b68e-fad13311eb65\", \"digest\": \"44727054017b5982e21439aa900c75fe5453684110e2d0b4b748184d29975072\", \"python_path\": \"d3m.primitives.datasets.DatasetToDataFrame\", \"name\": \"Extract a DataFrame from a Dataset\", \"version\": \"0.3.0\"}}, {\"arguments\": {\"inputs\": {\"type\": \"CONTAINER\", \"data\": \"steps.1.produce\"}}, \"hyperparams\": {\"semantic_types\": {\"type\": \"VALUE\", \"data\": [\"https://metadata.datadrivendiscovery.org/types/Attribute\"]}}, \"outputs\": [{\"id\": \"produce\"}], \"timing\": {\"fit\": 1.4460182189941406, \"produce\": 0.9096813201904297}, \"type\": \"PRIMITIVE\", \"primitive\": {\"id\": \"4503a4c6-42f7-45a1-a1d4-ed69699cf5e1\", \"digest\": \"44727054017b5982e21439aa900c75fe5453684110e2d0b4b748184d29975072\", \"python_path\": \"d3m.primitives.data.ExtractColumnsBySemanticTypes\", \"name\": \"Extracts columns by semantic type\", \"version\": \"0.2.0\"}}, {\"type\": \"PRIMITIVE\", \"arguments\": {\"inputs\": {\"type\": \"CONTAINER\", \"data\": \"steps.2.produce\"}}, \"timing\": {\"fit\": 12.29658555984497, \"produce\": 13.321726083755493}, \"outputs\": [{\"id\": \"produce\"}], \"primitive\": {\"id\": \"b2612849-39e4-33ce-bfda-24f3e2cb1e93\", \"digest\": \"8337a2c4f9266d563fff0fcea7f1cab678367f484dea230edea2769f5886f0c4\", \"python_path\": \"d3m.primitives.dsbox.Profiler\", \"name\": \"DSBox Profiler\", \"version\": \"1.3.0\"}}, {\"type\": \"PRIMITIVE\", \"arguments\": {\"inputs\": {\"type\": \"CONTAINER\", \"data\": \"steps.3.produce\"}}, \"timing\": {\"fit\": 5.5255677700042725, \"produce\": 3.2279694080352783}, \"outputs\": [{\"id\": \"produce\"}], \"primitive\": {\"id\": \"dsbox-cleaning-featurizer\", \"digest\": \"8337a2c4f9266d563fff0fcea7f1cab678367f484dea230edea2769f5886f0c4\", \"python_path\": \"d3m.primitives.dsbox.CleaningFeaturizer\", \"name\": \"DSBox Cleaning Featurizer\", \"version\": \"1.3.0\"}}, {\"type\": \"PRIMITIVE\", \"arguments\": {\"inputs\": {\"type\": \"CONTAINER\", \"data\": \"steps.4.produce\"}}, \"timing\": {\"fit\": 0.08479094505310059, \"produce\": 0.002432107925415039}, \"outputs\": [{\"id\": \"produce\"}], \"primitive\": {\"id\": \"18e63b10-c5b7-34bc-a670-f2c831d6b4bf\", \"digest\": \"35e5e1650a05365938270d42a91eac790eba247ae124ed1e1e78e1b538a2bae7\", \"python_path\": \"d3m.primitives.dsbox.CorexText\", \"name\": \"CorexText\", \"version\": \"1.0.0\"}}, {\"type\": \"PRIMITIVE\", \"arguments\": {\"inputs\": {\"type\": \"CONTAINER\", \"data\": \"steps.5.produce\"}}, \"timing\": {\"fit\": 2.56203293800354, \"produce\": 1.6637969017028809}, \"outputs\": [{\"id\": \"produce\"}], \"primitive\": {\"id\": \"18f0bb42-6350-3753-8f2d-d1c3da70f279\", \"digest\": \"8337a2c4f9266d563fff0fcea7f1cab678367f484dea230edea2769f5886f0c4\", \"python_path\": \"d3m.primitives.dsbox.Encoder\", \"name\": \"ISI DSBox Data Encoder\", \"version\": \"1.3.0\"}}, {\"type\": \"PRIMITIVE\", \"arguments\": {\"inputs\": {\"type\": \"CONTAINER\", \"data\": \"steps.6.produce\"}}, \"timing\": {\"fit\": 7.667677879333496, \"produce\": 7.093979597091675}, \"outputs\": [{\"id\": \"produce\"}], \"primitive\": {\"id\": \"7894b699-61e9-3a50-ac9f-9bc510466667\", \"digest\": \"8337a2c4f9266d563fff0fcea7f1cab678367f484dea230edea2769f5886f0c4\", \"python_path\": \"d3m.primitives.dsbox.MeanImputation\", \"name\": \"DSBox Mean Imputer\", \"version\": \"1.3.0\"}}, {\"type\": \"PRIMITIVE\", \"arguments\": {\"inputs\": {\"type\": \"CONTAINER\", \"data\": \"steps.7.produce\"}}, \"timing\": {\"fit\": 0.07340216636657715, \"produce\": 0.01834702491760254}, \"outputs\": [{\"id\": \"produce\"}], \"primitive\": {\"id\": \"64d2ef5d-b221-3033-8342-76d0293fa99c\", \"digest\": \"d094bb2dffc1e6276dd3fd7ab48672c4eb369ce4afb295b1ff826a66a73496e2\", \"python_path\": \"d3m.primitives.sklearn_wrap.SKMaxAbsScaler\", \"name\": \"sklearn.preprocessing.data.MaxAbsScaler\", \"version\": \"2018.7.11\"}}, {\"arguments\": {\"inputs\": {\"type\": \"CONTAINER\", \"data\": \"steps.8.produce\"}}, \"hyperparams\": {\"type_to_cast\": {\"type\": \"VALUE\", \"data\": \"float\"}}, \"outputs\": [{\"id\": \"produce\"}], \"timing\": {\"fit\": 0.1273951530456543, \"produce\": 0.15693116188049316}, \"type\": \"PRIMITIVE\", \"primitive\": {\"id\": \"eb5fe752-f22a-4090-948b-aafcef203bf5\", \"digest\": \"44727054017b5982e21439aa900c75fe5453684110e2d0b4b748184d29975072\", \"python_path\": \"d3m.primitives.data.CastToType\", \"name\": \"Casts DataFrame\", \"version\": \"0.2.0\"}}, {\"arguments\": {\"inputs\": {\"type\": \"CONTAINER\", \"data\": \"steps.9.produce\"}}, \"hyperparams\": {\"n_components\": {\"type\": \"VALUE\", \"data\": 10}}, \"outputs\": [{\"id\": \"produce\"}], \"timing\": {\"fit\": 0.15425992012023926, \"produce\": 0.05045795440673828}, \"type\": \"PRIMITIVE\", \"primitive\": {\"id\": \"2fb28cd1-5de6-3663-a2dc-09c786fba7f4\", \"digest\": \"d094bb2dffc1e6276dd3fd7ab48672c4eb369ce4afb295b1ff826a66a73496e2\", \"python_path\": \"d3m.primitives.sklearn_wrap.SKPCA\", \"name\": \"sklearn.decomposition.pca.PCA\", \"version\": \"2018.7.11\"}}, {\"arguments\": {\"inputs\": {\"type\": \"CONTAINER\", \"data\": \"steps.1.produce\"}}, \"hyperparams\": {\"semantic_types\": {\"type\": \"VALUE\", \"data\": [\"https://metadata.datadrivendiscovery.org/types/TrueTarget\"]}}, \"outputs\": [{\"id\": \"produce\"}], \"timing\": {\"fit\": 1.4460182189941406, \"produce\": 0.9096813201904297}, \"type\": \"PRIMITIVE\", \"primitive\": {\"id\": \"4503a4c6-42f7-45a1-a1d4-ed69699cf5e1\", \"digest\": \"44727054017b5982e21439aa900c75fe5453684110e2d0b4b748184d29975072\", \"python_path\": \"d3m.primitives.data.ExtractColumnsBySemanticTypes\", \"name\": \"Extracts columns by semantic type\", \"version\": \"0.2.0\"}}, {\"arguments\": {\"outputs\": {\"type\": \"CONTAINER\", \"data\": \"steps.11.produce\"}, \"inputs\": {\"type\": \"CONTAINER\", \"data\": \"steps.10.produce\"}}, \"hyperparams\": {\"bootstrap\": {\"type\": \"VALUE\", \"data\": false}, \"min_samples_split\": {\"type\": \"VALUE\", \"data\": 5}, \"n_estimators\": {\"type\": \"VALUE\", \"data\": 10}, \"max_depth\": {\"type\": \"VALUE\", \"data\": 15}, \"min_samples_leaf\": {\"type\": \"VALUE\", \"data\": 4}, \"max_features\": {\"type\": \"VALUE\", \"data\": \"auto\"}}, \"outputs\": [{\"id\": \"produce\"}], \"timing\": {\"fit\": 1.1458287239074707, \"produce\": 0.029778003692626953}, \"type\": \"PRIMITIVE\", \"primitive\": {\"id\": \"c8a28f02-ef4a-35a8-87f1-cf79980f5c3e\", \"digest\": \"d094bb2dffc1e6276dd3fd7ab48672c4eb369ce4afb295b1ff826a66a73496e2\", \"python_path\": \"d3m.primitives.sklearn_wrap.SKExtraTreesClassifier\", \"name\": \"sklearn.ensemble.forest.ExtraTreesClassifier\", \"version\": \"2018.7.11\"}}], \"metric_value\": 0.5627705627705628, \"problem_taskType\": \"classification\", \"pipeline_rank\": 1.7769230769230768}\n",
      "{\"template_name\": \"Large_column_number_with_numerical_only_classification\", \"problem_taskSubType\": \"binary\", \"total_time_used_without_cache\": 6.459321975708008, \"problem\": \"LL0_1479_hill_valley\", \"parent_id\": \"add112a0-8291-407c-a76d-f00d6c8347df\", \"context\": \"PRETRAINING\", \"inputs\": [{\"name\": \"input dataset\"}], \"total_time_used_with_cache\": 5.752158164978027, \"dataset\": \"ll0\", \"dataset_id\": \"LL0_1479_hill_valley_dataset_fd2d0189-dfd9-45d4-84db-a82f201a82c4\", \"schema\": \"https://metadata.datadrivendiscovery.org/schemas/v0/pipeline.json\", \"name\": \"dsbox_140345901040408\", \"outputs\": [{\"name\": \"predictions of input dataset\", \"data\": \"steps.6.produce\"}], \"created\": \"2018-08-10T10:55:39.224699Z\", \"id\": \"77fd52bd-daf6-4803-acb5-abf933d478bd\", \"baseline\": 0.8666666666666667, \"beat_baseline\": false, \"metric\": \"f1Macro\", \"template\": {\"name\": \"Large_column_number_with_numerical_only_classification\", \"target\": \"extract_target_step\", \"taskSubtype\": [\"BINARY\", \"MULTICLASS\"], \"taskType\": [\"CLASSIFICATION\"], \"steps\": [{\"name\": \"denormalize_step\", \"primitives\": [\"d3m.primitives.dsbox.Denormalize\"], \"inputs\": [\"template_input\"]}, {\"name\": \"to_dataframe_step\", \"primitives\": [\"d3m.primitives.datasets.DatasetToDataFrame\"], \"inputs\": [\"denormalize_step\"]}, {\"name\": \"extract_attribute_step\", \"primitives\": [\"d3m.primitives.data.ExtractColumnsBySemanticTypes\"], \"inputs\": [\"to_dataframe_step\"]}, {\"name\": \"extract_target_step\", \"primitives\": [\"d3m.primitives.data.ExtractColumnsBySemanticTypes\"], \"inputs\": [\"to_dataframe_step\"]}, {\"name\": \"encode2_step\", \"primitives\": [\"d3m.primitives.dsbox.Labler\"], \"inputs\": [\"extract_attribute_step\"]}, {\"name\": \"cast_1_step\", \"primitives\": [\"d3m.primitives.dsbox.DoNothing\", \"d3m.primitives.data.CastToType\"], \"inputs\": [\"encode2_step\"]}, {\"name\": \"model_step\", \"primitives\": [\"d3m.primitives.sklearn_wrap.SKRandomForestClassifier\"], \"inputs\": [\"cast_1_step\", \"extract_target_step\"]}], \"output\": \"model_step\", \"inputType\": [\"large_column_number\", \"table\"]}, \"description\": \"\", \"steps\": [{\"type\": \"PRIMITIVE\", \"arguments\": {\"inputs\": {\"type\": \"CONTAINER\", \"data\": \"inputs.0\"}}, \"timing\": {\"fit\": 0.0042111873626708984, \"produce\": 0.0007982254028320312}, \"outputs\": [{\"id\": \"produce\"}], \"primitive\": {\"id\": \"dsbox-denormalize(from d3m)\", \"digest\": \"8337a2c4f9266d563fff0fcea7f1cab678367f484dea230edea2769f5886f0c4\", \"python_path\": \"d3m.primitives.dsbox.Denormalize\", \"name\": \"DSBox denormalize\", \"version\": \"1.3.0\"}}, {\"type\": \"PRIMITIVE\", \"arguments\": {\"inputs\": {\"type\": \"CONTAINER\", \"data\": \"steps.0.produce\"}}, \"timing\": {\"fit\": 0.07030224800109863, \"produce\": 0.06386971473693848}, \"outputs\": [{\"id\": \"produce\"}], \"primitive\": {\"id\": \"4b42ce1e-9b98-4a25-b68e-fad13311eb65\", \"digest\": \"44727054017b5982e21439aa900c75fe5453684110e2d0b4b748184d29975072\", \"python_path\": \"d3m.primitives.datasets.DatasetToDataFrame\", \"name\": \"Extract a DataFrame from a Dataset\", \"version\": \"0.3.0\"}}, {\"arguments\": {\"inputs\": {\"type\": \"CONTAINER\", \"data\": \"steps.1.produce\"}}, \"hyperparams\": {\"semantic_types\": {\"type\": \"VALUE\", \"data\": [\"https://metadata.datadrivendiscovery.org/types/Attribute\"]}}, \"outputs\": [{\"id\": \"produce\"}], \"timing\": {\"fit\": 1.9787414073944092, \"produce\": 0.4320504665374756}, \"type\": \"PRIMITIVE\", \"primitive\": {\"id\": \"4503a4c6-42f7-45a1-a1d4-ed69699cf5e1\", \"digest\": \"44727054017b5982e21439aa900c75fe5453684110e2d0b4b748184d29975072\", \"python_path\": \"d3m.primitives.data.ExtractColumnsBySemanticTypes\", \"name\": \"Extracts columns by semantic type\", \"version\": \"0.2.0\"}}, {\"arguments\": {\"inputs\": {\"type\": \"CONTAINER\", \"data\": \"steps.1.produce\"}}, \"hyperparams\": {\"semantic_types\": {\"type\": \"VALUE\", \"data\": [\"https://metadata.datadrivendiscovery.org/types/Target\", \"https://metadata.datadrivendiscovery.org/types/SuggestedTarget\"]}}, \"outputs\": [{\"id\": \"produce\"}], \"timing\": {\"fit\": 1.9787414073944092, \"produce\": 0.4320504665374756}, \"type\": \"PRIMITIVE\", \"primitive\": {\"id\": \"4503a4c6-42f7-45a1-a1d4-ed69699cf5e1\", \"digest\": \"44727054017b5982e21439aa900c75fe5453684110e2d0b4b748184d29975072\", \"python_path\": \"d3m.primitives.data.ExtractColumnsBySemanticTypes\", \"name\": \"Extracts columns by semantic type\", \"version\": \"0.2.0\"}}, {\"type\": \"PRIMITIVE\", \"arguments\": {\"inputs\": {\"type\": \"CONTAINER\", \"data\": \"steps.2.produce\"}}, \"timing\": {\"fit\": 0.8199827671051025, \"produce\": 0.0006091594696044922}, \"outputs\": [{\"id\": \"produce\"}], \"primitive\": {\"id\": \"dsbox-multi-table-feature-labler\", \"digest\": \"8337a2c4f9266d563fff0fcea7f1cab678367f484dea230edea2769f5886f0c4\", \"python_path\": \"d3m.primitives.dsbox.Labler\", \"name\": \"DSBox feature labeler\", \"version\": \"1.3.0\"}}, {\"type\": \"PRIMITIVE\", \"arguments\": {\"inputs\": {\"type\": \"CONTAINER\", \"data\": \"steps.4.produce\"}}, \"timing\": {\"fit\": 0.8218860626220703, \"produce\": 0.0005853176116943359}, \"outputs\": [{\"id\": \"produce\"}], \"primitive\": {\"id\": \"dsbox-featurizer-do-nothing\", \"digest\": \"9a303e6185bd4e479ee895be664bd10c50870fbee936744d773e381765182b83\", \"python_path\": \"d3m.primitives.dsbox.DoNothing\", \"name\": \"DSBox Image Featurizer do-nothing primitive\", \"version\": \"0.2.0\"}}, {\"type\": \"PRIMITIVE\", \"arguments\": {\"outputs\": {\"type\": \"CONTAINER\", \"data\": \"steps.3.produce\"}, \"inputs\": {\"type\": \"CONTAINER\", \"data\": \"steps.5.produce\"}}, \"timing\": {\"fit\": 0.34864211082458496, \"produce\": 0.009465217590332031}, \"outputs\": [{\"id\": \"produce\"}], \"primitive\": {\"id\": \"1dd82833-5692-39cb-84fb-2455683075f3\", \"digest\": \"d094bb2dffc1e6276dd3fd7ab48672c4eb369ce4afb295b1ff826a66a73496e2\", \"python_path\": \"d3m.primitives.sklearn_wrap.SKRandomForestClassifier\", \"name\": \"sklearn.ensemble.forest.RandomForestClassifier\", \"version\": \"2018.7.11\"}}], \"metric_value\": 0.563719512195122, \"problem_taskType\": \"classification\", \"pipeline_rank\": 1.7739318550567875}\n",
      "{\"template_name\": \"default_text_classification_template\", \"problem_taskSubType\": \"binary\", \"total_time_used_without_cache\": 107.50063681602478, \"problem\": \"LL0_1479_hill_valley\", \"parent_id\": \"d3896c58-8167-445c-8012-2e9953eef336\", \"context\": \"PRETRAINING\", \"inputs\": [{\"name\": \"input dataset\"}], \"total_time_used_with_cache\": 55.96482563018799, \"dataset\": \"ll0\", \"dataset_id\": \"LL0_1479_hill_valley_dataset_fd2d0189-dfd9-45d4-84db-a82f201a82c4\", \"schema\": \"https://metadata.datadrivendiscovery.org/schemas/v0/pipeline.json\", \"name\": \"dsbox_140343579872064\", \"outputs\": [{\"name\": \"predictions of input dataset\", \"data\": \"steps.11.produce\"}], \"created\": \"2018-08-10T10:51:56.354393Z\", \"id\": \"3262ef6e-57b6-42ee-a495-407cdaf588ad\", \"baseline\": 0.8666666666666667, \"beat_baseline\": false, \"metric\": \"f1Macro\", \"template\": {\"name\": \"default_text_classification_template\", \"target\": \"extract_target_step\", \"taskSubtype\": [\"BINARY\", \"MULTICLASS\"], \"taskType\": [\"CLASSIFICATION\"], \"steps\": [{\"name\": \"denormalize_step\", \"primitives\": [\"d3m.primitives.dsbox.Denormalize\"], \"inputs\": [\"template_input\"]}, {\"name\": \"to_dataframe_step\", \"primitives\": [\"d3m.primitives.datasets.DatasetToDataFrame\"], \"inputs\": [\"denormalize_step\"]}, {\"name\": \"extract_attribute_step\", \"primitives\": [\"d3m.primitives.data.ExtractColumnsBySemanticTypes\"], \"inputs\": [\"to_dataframe_step\"]}, {\"name\": \"profiler_step\", \"primitives\": [\"d3m.primitives.dsbox.Profiler\"], \"inputs\": [\"extract_attribute_step\"]}, {\"name\": \"clean_step\", \"primitives\": [\"d3m.primitives.dsbox.CleaningFeaturizer\", \"d3m.primitives.dsbox.DoNothing\"], \"inputs\": [\"profiler_step\"]}, {\"name\": \"corex_step\", \"primitives\": [\"d3m.primitives.dsbox.CorexText\"], \"inputs\": [\"clean_step\"]}, {\"name\": \"encoder_step\", \"primitives\": [\"d3m.primitives.dsbox.Encoder\", \"d3m.primitives.dsbox.DoNothing\"], \"inputs\": [\"corex_step\"]}, {\"name\": \"impute_step\", \"primitives\": [\"d3m.primitives.dsbox.MeanImputation\"], \"inputs\": [\"encoder_step\"]}, {\"name\": \"scaler_step\", \"primitives\": [\"d3m.primitives.sklearn_wrap.SKMaxAbsScaler\", \"d3m.primitives.dsbox.IQRScaler\", \"d3m.primitives.dsbox.DoNothing\"], \"inputs\": [\"impute_step\"]}, {\"name\": \"data\", \"primitives\": [\"d3m.primitives.data.CastToType\", \"d3m.primitives.dsbox.DoNothing\"], \"inputs\": [\"scaler_step\"]}, {\"name\": \"target\", \"primitives\": [\"d3m.primitives.data.ExtractColumnsBySemanticTypes\"], \"inputs\": [\"to_dataframe_step\"]}, {\"name\": \"model_step\", \"runtime\": {\"stratified\": true, \"cross_validation\": 10}, \"primitives\": [\"d3m.primitives.sklearn_wrap.SKGradientBoostingClassifier\", \"d3m.primitives.sklearn_wrap.SKMultinomialNB\", \"d3m.primitives.sklearn_wrap.SKRandomForestClassifier\"], \"inputs\": [\"data\", \"target\"]}], \"output\": \"model_step\", \"inputType\": [\"table\", \"text\"]}, \"description\": \"\", \"steps\": [{\"type\": \"PRIMITIVE\", \"arguments\": {\"inputs\": {\"type\": \"CONTAINER\", \"data\": \"inputs.0\"}}, \"timing\": {\"fit\": 0.0042111873626708984, \"produce\": 0.0022957324981689453}, \"outputs\": [{\"id\": \"produce\"}], \"primitive\": {\"id\": \"dsbox-denormalize(from d3m)\", \"digest\": \"8337a2c4f9266d563fff0fcea7f1cab678367f484dea230edea2769f5886f0c4\", \"python_path\": \"d3m.primitives.dsbox.Denormalize\", \"name\": \"DSBox denormalize\", \"version\": \"1.3.0\"}}, {\"type\": \"PRIMITIVE\", \"arguments\": {\"inputs\": {\"type\": \"CONTAINER\", \"data\": \"steps.0.produce\"}}, \"timing\": {\"fit\": 0.07030224800109863, \"produce\": 0.1300981044769287}, \"outputs\": [{\"id\": \"produce\"}], \"primitive\": {\"id\": \"4b42ce1e-9b98-4a25-b68e-fad13311eb65\", \"digest\": \"44727054017b5982e21439aa900c75fe5453684110e2d0b4b748184d29975072\", \"python_path\": \"d3m.primitives.datasets.DatasetToDataFrame\", \"name\": \"Extract a DataFrame from a Dataset\", \"version\": \"0.3.0\"}}, {\"arguments\": {\"inputs\": {\"type\": \"CONTAINER\", \"data\": \"steps.1.produce\"}}, \"hyperparams\": {\"semantic_types\": {\"type\": \"VALUE\", \"data\": [\"https://metadata.datadrivendiscovery.org/types/Attribute\"]}}, \"outputs\": [{\"id\": \"produce\"}], \"timing\": {\"fit\": 1.4460182189941406, \"produce\": 0.8759474754333496}, \"type\": \"PRIMITIVE\", \"primitive\": {\"id\": \"4503a4c6-42f7-45a1-a1d4-ed69699cf5e1\", \"digest\": \"44727054017b5982e21439aa900c75fe5453684110e2d0b4b748184d29975072\", \"python_path\": \"d3m.primitives.data.ExtractColumnsBySemanticTypes\", \"name\": \"Extracts columns by semantic type\", \"version\": \"0.2.0\"}}, {\"type\": \"PRIMITIVE\", \"arguments\": {\"inputs\": {\"type\": \"CONTAINER\", \"data\": \"steps.2.produce\"}}, \"timing\": {\"fit\": 12.29658555984497, \"produce\": 12.58908486366272}, \"outputs\": [{\"id\": \"produce\"}], \"primitive\": {\"id\": \"b2612849-39e4-33ce-bfda-24f3e2cb1e93\", \"digest\": \"8337a2c4f9266d563fff0fcea7f1cab678367f484dea230edea2769f5886f0c4\", \"python_path\": \"d3m.primitives.dsbox.Profiler\", \"name\": \"DSBox Profiler\", \"version\": \"1.3.0\"}}, {\"type\": \"PRIMITIVE\", \"arguments\": {\"inputs\": {\"type\": \"CONTAINER\", \"data\": \"steps.3.produce\"}}, \"timing\": {\"fit\": 5.5255677700042725, \"produce\": 4.768056154251099}, \"outputs\": [{\"id\": \"produce\"}], \"primitive\": {\"id\": \"dsbox-cleaning-featurizer\", \"digest\": \"8337a2c4f9266d563fff0fcea7f1cab678367f484dea230edea2769f5886f0c4\", \"python_path\": \"d3m.primitives.dsbox.CleaningFeaturizer\", \"name\": \"DSBox Cleaning Featurizer\", \"version\": \"1.3.0\"}}, {\"arguments\": {\"inputs\": {\"type\": \"CONTAINER\", \"data\": \"steps.4.produce\"}}, \"hyperparams\": {\"threshold\": {\"type\": \"VALUE\", \"data\": 0}, \"n_hidden\": {\"type\": \"VALUE\", \"data\": 5}, \"n_grams\": {\"type\": \"VALUE\", \"data\": 1}}, \"outputs\": [{\"id\": \"produce\"}], \"timing\": {\"fit\": 0.17009186744689941, \"produce\": 0.0019423961639404297}, \"type\": \"PRIMITIVE\", \"primitive\": {\"id\": \"18e63b10-c5b7-34bc-a670-f2c831d6b4bf\", \"digest\": \"35e5e1650a05365938270d42a91eac790eba247ae124ed1e1e78e1b538a2bae7\", \"python_path\": \"d3m.primitives.dsbox.CorexText\", \"name\": \"CorexText\", \"version\": \"1.0.0\"}}, {\"type\": \"PRIMITIVE\", \"arguments\": {\"inputs\": {\"type\": \"CONTAINER\", \"data\": \"steps.5.produce\"}}, \"timing\": {\"fit\": 2.8931469917297363, \"produce\": 1.7065210342407227}, \"outputs\": [{\"id\": \"produce\"}], \"primitive\": {\"id\": \"18f0bb42-6350-3753-8f2d-d1c3da70f279\", \"digest\": \"8337a2c4f9266d563fff0fcea7f1cab678367f484dea230edea2769f5886f0c4\", \"python_path\": \"d3m.primitives.dsbox.Encoder\", \"name\": \"ISI DSBox Data Encoder\", \"version\": \"1.3.0\"}}, {\"type\": \"PRIMITIVE\", \"arguments\": {\"inputs\": {\"type\": \"CONTAINER\", \"data\": \"steps.6.produce\"}}, \"timing\": {\"fit\": 4.854155540466309, \"produce\": 8.553640127182007}, \"outputs\": [{\"id\": \"produce\"}], \"primitive\": {\"id\": \"7894b699-61e9-3a50-ac9f-9bc510466667\", \"digest\": \"8337a2c4f9266d563fff0fcea7f1cab678367f484dea230edea2769f5886f0c4\", \"python_path\": \"d3m.primitives.dsbox.MeanImputation\", \"name\": \"DSBox Mean Imputer\", \"version\": \"1.3.0\"}}, {\"type\": \"PRIMITIVE\", \"arguments\": {\"inputs\": {\"type\": \"CONTAINER\", \"data\": \"steps.7.produce\"}}, \"timing\": {\"fit\": 0.07695937156677246, \"produce\": 0.01882791519165039}, \"outputs\": [{\"id\": \"produce\"}], \"primitive\": {\"id\": \"64d2ef5d-b221-3033-8342-76d0293fa99c\", \"digest\": \"d094bb2dffc1e6276dd3fd7ab48672c4eb369ce4afb295b1ff826a66a73496e2\", \"python_path\": \"d3m.primitives.sklearn_wrap.SKMaxAbsScaler\", \"name\": \"sklearn.preprocessing.data.MaxAbsScaler\", \"version\": \"2018.7.11\"}}, {\"arguments\": {\"inputs\": {\"type\": \"CONTAINER\", \"data\": \"steps.8.produce\"}}, \"hyperparams\": {\"type_to_cast\": {\"type\": \"VALUE\", \"data\": \"float\"}}, \"outputs\": [{\"id\": \"produce\"}], \"timing\": {\"fit\": 0.1819753646850586, \"produce\": 0.13437700271606445}, \"type\": \"PRIMITIVE\", \"primitive\": {\"id\": \"eb5fe752-f22a-4090-948b-aafcef203bf5\", \"digest\": \"44727054017b5982e21439aa900c75fe5453684110e2d0b4b748184d29975072\", \"python_path\": \"d3m.primitives.data.CastToType\", \"name\": \"Casts DataFrame\", \"version\": \"0.2.0\"}}, {\"arguments\": {\"inputs\": {\"type\": \"CONTAINER\", \"data\": \"steps.1.produce\"}}, \"hyperparams\": {\"semantic_types\": {\"type\": \"VALUE\", \"data\": [\"https://metadata.datadrivendiscovery.org/types/TrueTarget\"]}}, \"outputs\": [{\"id\": \"produce\"}], \"timing\": {\"fit\": 1.4460182189941406, \"produce\": 0.8759474754333496}, \"type\": \"PRIMITIVE\", \"primitive\": {\"id\": \"4503a4c6-42f7-45a1-a1d4-ed69699cf5e1\", \"digest\": \"44727054017b5982e21439aa900c75fe5453684110e2d0b4b748184d29975072\", \"python_path\": \"d3m.primitives.data.ExtractColumnsBySemanticTypes\", \"name\": \"Extracts columns by semantic type\", \"version\": \"0.2.0\"}}, {\"arguments\": {\"outputs\": {\"type\": \"CONTAINER\", \"data\": \"steps.10.produce\"}, \"inputs\": {\"type\": \"CONTAINER\", \"data\": \"steps.9.produce\"}}, \"hyperparams\": {\"learning_rate\": {\"type\": \"VALUE\", \"data\": 0.1}, \"n_estimators\": {\"type\": \"VALUE\", \"data\": 50}, \"max_depth\": {\"type\": \"VALUE\", \"data\": 5}, \"min_samples_split\": {\"type\": \"VALUE\", \"data\": 3}, \"min_samples_leaf\": {\"type\": \"VALUE\", \"data\": 1}}, \"outputs\": [{\"id\": \"produce\"}], \"timing\": {\"fit\": 20.092175722122192, \"produce\": 0.023640155792236328}, \"type\": \"PRIMITIVE\", \"primitive\": {\"id\": \"01d2c086-91bf-3ca5-b023-5139cf239c77\", \"digest\": \"d094bb2dffc1e6276dd3fd7ab48672c4eb369ce4afb295b1ff826a66a73496e2\", \"python_path\": \"d3m.primitives.sklearn_wrap.SKGradientBoostingClassifier\", \"name\": \"sklearn.ensemble.gradient_boosting.GradientBoostingClassifier\", \"version\": \"2018.7.11\"}}], \"metric_value\": 0.5655064664525649, \"problem_taskType\": \"classification\", \"pipeline_rank\": 1.7683263752455796}\n",
      "{\"template_name\": \"naive_bayes_classification_template\", \"problem_taskSubType\": \"binary\", \"total_time_used_without_cache\": 73.73131966590881, \"problem\": \"LL0_1479_hill_valley\", \"parent_id\": \"896274fa-762c-408d-95ab-27b39a05b751\", \"context\": \"PRETRAINING\", \"inputs\": [{\"name\": \"input dataset\"}], \"total_time_used_with_cache\": 29.909212350845337, \"dataset\": \"ll0\", \"dataset_id\": \"LL0_1479_hill_valley_dataset_fd2d0189-dfd9-45d4-84db-a82f201a82c4\", \"schema\": \"https://metadata.datadrivendiscovery.org/schemas/v0/pipeline.json\", \"name\": \"dsbox_140343603375776\", \"outputs\": [{\"name\": \"predictions of input dataset\", \"data\": \"steps.12.produce\"}], \"created\": \"2018-08-10T10:37:04.428277Z\", \"id\": \"4167d0aa-a738-4611-9efd-29ff6ecc8d5a\", \"baseline\": 0.8666666666666667, \"beat_baseline\": false, \"metric\": \"f1Macro\", \"template\": {\"name\": \"naive_bayes_classification_template\", \"target\": \"extract_target_step\", \"taskSubtype\": [\"BINARY\", \"MULTICLASS\"], \"taskType\": [\"CLASSIFICATION\"], \"steps\": [{\"name\": \"denormalize_step\", \"primitives\": [\"d3m.primitives.dsbox.Denormalize\"], \"inputs\": [\"template_input\"]}, {\"name\": \"to_dataframe_step\", \"primitives\": [\"d3m.primitives.datasets.DatasetToDataFrame\"], \"inputs\": [\"denormalize_step\"]}, {\"name\": \"extract_attribute_step\", \"primitives\": [\"d3m.primitives.data.ExtractColumnsBySemanticTypes\"], \"inputs\": [\"to_dataframe_step\"]}, {\"name\": \"profiler_step\", \"primitives\": [\"d3m.primitives.dsbox.Profiler\"], \"inputs\": [\"extract_attribute_step\"]}, {\"name\": \"clean_step\", \"primitives\": [\"d3m.primitives.dsbox.CleaningFeaturizer\", \"d3m.primitives.dsbox.DoNothing\"], \"inputs\": [\"profiler_step\"]}, {\"name\": \"corex_step\", \"primitives\": [\"d3m.primitives.dsbox.CorexText\"], \"inputs\": [\"clean_step\"]}, {\"name\": \"encoder_step\", \"primitives\": [\"d3m.primitives.dsbox.Encoder\", \"d3m.primitives.dsbox.DoNothing\"], \"inputs\": [\"corex_step\"]}, {\"name\": \"impute_step\", \"primitives\": [\"d3m.primitives.dsbox.MeanImputation\"], \"inputs\": [\"encoder_step\"]}, {\"name\": \"scaler_step\", \"primitives\": [\"d3m.primitives.sklearn_wrap.SKMaxAbsScaler\", \"d3m.primitives.dsbox.IQRScaler\", \"d3m.primitives.dsbox.DoNothing\"], \"inputs\": [\"impute_step\"]}, {\"name\": \"cast_1_step\", \"primitives\": [\"d3m.primitives.data.CastToType\", \"d3m.primitives.dsbox.DoNothing\"], \"inputs\": [\"scaler_step\"]}, {\"name\": \"data\", \"primitives\": [\"d3m.primitives.sklearn_wrap.SKPCA\", \"d3m.primitives.dsbox.DoNothing\"], \"inputs\": [\"cast_1_step\"]}, {\"name\": \"target\", \"primitives\": [\"d3m.primitives.data.ExtractColumnsBySemanticTypes\"], \"inputs\": [\"to_dataframe_step\"]}, {\"name\": \"model_step\", \"runtime\": {\"stratified\": true, \"cross_validation\": 10}, \"primitives\": [\"d3m.primitives.sklearn_wrap.SKBernoulliNB\", \"d3m.primitives.sklearn_wrap.SKGaussianNB\", \"d3m.primitives.sklearn_wrap.SKMultinomialNB\"], \"inputs\": [\"data\", \"target\"]}], \"output\": \"model_step\", \"inputType\": \"table\"}, \"description\": \"\", \"steps\": [{\"type\": \"PRIMITIVE\", \"arguments\": {\"inputs\": {\"type\": \"CONTAINER\", \"data\": \"inputs.0\"}}, \"timing\": {\"fit\": 0.0042111873626708984, \"produce\": 0.0019617080688476562}, \"outputs\": [{\"id\": \"produce\"}], \"primitive\": {\"id\": \"dsbox-denormalize(from d3m)\", \"digest\": \"8337a2c4f9266d563fff0fcea7f1cab678367f484dea230edea2769f5886f0c4\", \"python_path\": \"d3m.primitives.dsbox.Denormalize\", \"name\": \"DSBox denormalize\", \"version\": \"1.3.0\"}}, {\"type\": \"PRIMITIVE\", \"arguments\": {\"inputs\": {\"type\": \"CONTAINER\", \"data\": \"steps.0.produce\"}}, \"timing\": {\"fit\": 0.07030224800109863, \"produce\": 0.11858558654785156}, \"outputs\": [{\"id\": \"produce\"}], \"primitive\": {\"id\": \"4b42ce1e-9b98-4a25-b68e-fad13311eb65\", \"digest\": \"44727054017b5982e21439aa900c75fe5453684110e2d0b4b748184d29975072\", \"python_path\": \"d3m.primitives.datasets.DatasetToDataFrame\", \"name\": \"Extract a DataFrame from a Dataset\", \"version\": \"0.3.0\"}}, {\"arguments\": {\"inputs\": {\"type\": \"CONTAINER\", \"data\": \"steps.1.produce\"}}, \"hyperparams\": {\"semantic_types\": {\"type\": \"VALUE\", \"data\": [\"https://metadata.datadrivendiscovery.org/types/Attribute\"]}}, \"outputs\": [{\"id\": \"produce\"}], \"timing\": {\"fit\": 1.4460182189941406, \"produce\": 0.9003627300262451}, \"type\": \"PRIMITIVE\", \"primitive\": {\"id\": \"4503a4c6-42f7-45a1-a1d4-ed69699cf5e1\", \"digest\": \"44727054017b5982e21439aa900c75fe5453684110e2d0b4b748184d29975072\", \"python_path\": \"d3m.primitives.data.ExtractColumnsBySemanticTypes\", \"name\": \"Extracts columns by semantic type\", \"version\": \"0.2.0\"}}, {\"type\": \"PRIMITIVE\", \"arguments\": {\"inputs\": {\"type\": \"CONTAINER\", \"data\": \"steps.2.produce\"}}, \"timing\": {\"fit\": 12.29658555984497, \"produce\": 10.907827854156494}, \"outputs\": [{\"id\": \"produce\"}], \"primitive\": {\"id\": \"b2612849-39e4-33ce-bfda-24f3e2cb1e93\", \"digest\": \"8337a2c4f9266d563fff0fcea7f1cab678367f484dea230edea2769f5886f0c4\", \"python_path\": \"d3m.primitives.dsbox.Profiler\", \"name\": \"DSBox Profiler\", \"version\": \"1.3.0\"}}, {\"type\": \"PRIMITIVE\", \"arguments\": {\"inputs\": {\"type\": \"CONTAINER\", \"data\": \"steps.3.produce\"}}, \"timing\": {\"fit\": 5.5255677700042725, \"produce\": 3.1092848777770996}, \"outputs\": [{\"id\": \"produce\"}], \"primitive\": {\"id\": \"dsbox-cleaning-featurizer\", \"digest\": \"8337a2c4f9266d563fff0fcea7f1cab678367f484dea230edea2769f5886f0c4\", \"python_path\": \"d3m.primitives.dsbox.CleaningFeaturizer\", \"name\": \"DSBox Cleaning Featurizer\", \"version\": \"1.3.0\"}}, {\"type\": \"PRIMITIVE\", \"arguments\": {\"inputs\": {\"type\": \"CONTAINER\", \"data\": \"steps.4.produce\"}}, \"timing\": {\"fit\": 0.08479094505310059, \"produce\": 0.0018436908721923828}, \"outputs\": [{\"id\": \"produce\"}], \"primitive\": {\"id\": \"18e63b10-c5b7-34bc-a670-f2c831d6b4bf\", \"digest\": \"35e5e1650a05365938270d42a91eac790eba247ae124ed1e1e78e1b538a2bae7\", \"python_path\": \"d3m.primitives.dsbox.CorexText\", \"name\": \"CorexText\", \"version\": \"1.0.0\"}}, {\"type\": \"PRIMITIVE\", \"arguments\": {\"inputs\": {\"type\": \"CONTAINER\", \"data\": \"steps.5.produce\"}}, \"timing\": {\"fit\": 2.56203293800354, \"produce\": 1.542484998703003}, \"outputs\": [{\"id\": \"produce\"}], \"primitive\": {\"id\": \"18f0bb42-6350-3753-8f2d-d1c3da70f279\", \"digest\": \"8337a2c4f9266d563fff0fcea7f1cab678367f484dea230edea2769f5886f0c4\", \"python_path\": \"d3m.primitives.dsbox.Encoder\", \"name\": \"ISI DSBox Data Encoder\", \"version\": \"1.3.0\"}}, {\"type\": \"PRIMITIVE\", \"arguments\": {\"inputs\": {\"type\": \"CONTAINER\", \"data\": \"steps.6.produce\"}}, \"timing\": {\"fit\": 7.667677879333496, \"produce\": 5.8976829051971436}, \"outputs\": [{\"id\": \"produce\"}], \"primitive\": {\"id\": \"7894b699-61e9-3a50-ac9f-9bc510466667\", \"digest\": \"8337a2c4f9266d563fff0fcea7f1cab678367f484dea230edea2769f5886f0c4\", \"python_path\": \"d3m.primitives.dsbox.MeanImputation\", \"name\": \"DSBox Mean Imputer\", \"version\": \"1.3.0\"}}, {\"type\": \"PRIMITIVE\", \"arguments\": {\"inputs\": {\"type\": \"CONTAINER\", \"data\": \"steps.7.produce\"}}, \"timing\": {\"fit\": 0.07340216636657715, \"produce\": 0.01943230628967285}, \"outputs\": [{\"id\": \"produce\"}], \"primitive\": {\"id\": \"64d2ef5d-b221-3033-8342-76d0293fa99c\", \"digest\": \"d094bb2dffc1e6276dd3fd7ab48672c4eb369ce4afb295b1ff826a66a73496e2\", \"python_path\": \"d3m.primitives.sklearn_wrap.SKMaxAbsScaler\", \"name\": \"sklearn.preprocessing.data.MaxAbsScaler\", \"version\": \"2018.7.11\"}}, {\"arguments\": {\"inputs\": {\"type\": \"CONTAINER\", \"data\": \"steps.8.produce\"}}, \"hyperparams\": {\"type_to_cast\": {\"type\": \"VALUE\", \"data\": \"float\"}}, \"outputs\": [{\"id\": \"produce\"}], \"timing\": {\"fit\": 0.1273951530456543, \"produce\": 0.1047968864440918}, \"type\": \"PRIMITIVE\", \"primitive\": {\"id\": \"eb5fe752-f22a-4090-948b-aafcef203bf5\", \"digest\": \"44727054017b5982e21439aa900c75fe5453684110e2d0b4b748184d29975072\", \"python_path\": \"d3m.primitives.data.CastToType\", \"name\": \"Casts DataFrame\", \"version\": \"0.2.0\"}}, {\"arguments\": {\"inputs\": {\"type\": \"CONTAINER\", \"data\": \"steps.9.produce\"}}, \"hyperparams\": {\"n_components\": {\"type\": \"VALUE\", \"data\": 15}}, \"outputs\": [{\"id\": \"produce\"}], \"timing\": {\"fit\": 0.07500505447387695, \"produce\": 0.01165771484375}, \"type\": \"PRIMITIVE\", \"primitive\": {\"id\": \"2fb28cd1-5de6-3663-a2dc-09c786fba7f4\", \"digest\": \"d094bb2dffc1e6276dd3fd7ab48672c4eb369ce4afb295b1ff826a66a73496e2\", \"python_path\": \"d3m.primitives.sklearn_wrap.SKPCA\", \"name\": \"sklearn.decomposition.pca.PCA\", \"version\": \"2018.7.11\"}}, {\"arguments\": {\"inputs\": {\"type\": \"CONTAINER\", \"data\": \"steps.1.produce\"}}, \"hyperparams\": {\"semantic_types\": {\"type\": \"VALUE\", \"data\": [\"https://metadata.datadrivendiscovery.org/types/TrueTarget\"]}}, \"outputs\": [{\"id\": \"produce\"}], \"timing\": {\"fit\": 1.4460182189941406, \"produce\": 0.9003627300262451}, \"type\": \"PRIMITIVE\", \"primitive\": {\"id\": \"4503a4c6-42f7-45a1-a1d4-ed69699cf5e1\", \"digest\": \"44727054017b5982e21439aa900c75fe5453684110e2d0b4b748184d29975072\", \"python_path\": \"d3m.primitives.data.ExtractColumnsBySemanticTypes\", \"name\": \"Extracts columns by semantic type\", \"version\": \"0.2.0\"}}, {\"arguments\": {\"outputs\": {\"type\": \"CONTAINER\", \"data\": \"steps.11.produce\"}, \"inputs\": {\"type\": \"CONTAINER\", \"data\": \"steps.10.produce\"}}, \"hyperparams\": {\"alpha\": {\"type\": \"VALUE\", \"data\": 0}}, \"outputs\": [{\"id\": \"produce\"}], \"timing\": {\"fit\": 0.5973162651062012, \"produce\": 0.005399227142333984}, \"type\": \"PRIMITIVE\", \"primitive\": {\"id\": \"dfb1004e-02ac-3399-ba57-8a95639312cd\", \"digest\": \"d094bb2dffc1e6276dd3fd7ab48672c4eb369ce4afb295b1ff826a66a73496e2\", \"python_path\": \"d3m.primitives.sklearn_wrap.SKBernoulliNB\", \"name\": \"sklearn.naive_bayes.BernoulliNB\", \"version\": \"2018.7.11\"}}], \"metric_value\": 0.6001458888191488, \"problem_taskType\": \"classification\", \"pipeline_rank\": 1.6662615184577987}\n"
     ]
    }
   ],
   "source": [
    "!head -n 10 \"/nfs1/dsbox-repo/runs/wade-run/pipelines.jl\""
   ]
  },
  {
   "cell_type": "code",
   "execution_count": null,
   "metadata": {},
   "outputs": [],
   "source": []
  }
 ],
 "metadata": {
  "kernelspec": {
   "display_name": "Python 3",
   "language": "python",
   "name": "python3"
  },
  "language_info": {
   "codemirror_mode": {
    "name": "ipython",
    "version": 3
   },
   "file_extension": ".py",
   "mimetype": "text/x-python",
   "name": "python",
   "nbconvert_exporter": "python",
   "pygments_lexer": "ipython3",
   "version": "3.6.6"
  }
 },
 "nbformat": 4,
 "nbformat_minor": 2
}
